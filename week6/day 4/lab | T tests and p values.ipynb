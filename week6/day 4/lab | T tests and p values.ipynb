{
 "cells": [
  {
   "cell_type": "markdown",
   "id": "numerical-venue",
   "metadata": {},
   "source": [
    "## Lab | T tests and p values\n",
    "#### Instructions\n",
    "This time this is a one sided t-test. In a packing plant, a machine packs cartons with jars. It is supposed that a new machine will pack faster on the average than the machine currently used. To test that hypothesis, the times it takes each machine to pack ten cartons are recorded. The results, in seconds, are shown in the tables in the file files_for_lab/machine.txt. Assume that there is sufficient evidence to conduct the t test, does the data provide sufficient evidence to show if one machine is better than the other\n"
   ]
  },
  {
   "cell_type": "code",
   "execution_count": 15,
   "id": "pointed-congo",
   "metadata": {},
   "outputs": [],
   "source": [
    "from scipy.stats import ttest_1samp\n",
    "from scipy.stats import norm\n",
    "import math\n",
    "from scipy.stats import t"
   ]
  },
  {
   "cell_type": "code",
   "execution_count": 3,
   "id": "scenic-divorce",
   "metadata": {},
   "outputs": [],
   "source": [
    "import numpy as np\n",
    "import pandas as pd"
   ]
  },
  {
   "cell_type": "code",
   "execution_count": 4,
   "id": "divine-handy",
   "metadata": {},
   "outputs": [],
   "source": [
    "a = [42.1, 41,  41.3, 41.8, 42.4, 42.8, 43.2, 42.3, 41.8, 42.7]"
   ]
  },
  {
   "cell_type": "code",
   "execution_count": 5,
   "id": "auburn-assignment",
   "metadata": {},
   "outputs": [],
   "source": [
    "b = [42.7, 43.6, 43.8, 43.3, 42.5, 43.5, 43.1, 41.7, 44, 44.1]"
   ]
  },
  {
   "cell_type": "code",
   "execution_count": 6,
   "id": "framed-telescope",
   "metadata": {},
   "outputs": [],
   "source": [
    "a_mean= np.mean(a)\n",
    "b_mean= np.mean(b)\n",
    "a_std = np.std(a)\n",
    "b_std = np.std(b)\n",
    "n=10"
   ]
  },
  {
   "cell_type": "markdown",
   "id": "durable-drama",
   "metadata": {},
   "source": [
    "<img src=\"images/Two-samples_T-test.png\" width=\"300\" height=\"170\" />"
   ]
  },
  {
   "cell_type": "code",
   "execution_count": 19,
   "id": "seeing-cornwall",
   "metadata": {},
   "outputs": [
    {
     "data": {
      "text/plain": [
       "-3.5809955894645813"
      ]
     },
     "execution_count": 19,
     "metadata": {},
     "output_type": "execute_result"
    }
   ],
   "source": [
    "statistic = (a_mean - b_mean)/(math.sqrt(((a_std**2)/n)+(b_std**2)/n))\n",
    "statistic"
   ]
  },
  {
   "cell_type": "code",
   "execution_count": 8,
   "id": "strange-gateway",
   "metadata": {},
   "outputs": [
    {
     "data": {
      "text/plain": [
       "-1.6448536269514729"
      ]
     },
     "execution_count": 8,
     "metadata": {},
     "output_type": "execute_result"
    }
   ],
   "source": [
    "critical_value = norm.ppf(0.05)\n",
    "critical_value"
   ]
  },
  {
   "cell_type": "code",
   "execution_count": 9,
   "id": "every-canada",
   "metadata": {},
   "outputs": [
    {
     "data": {
      "text/plain": [
       "42.495498158785935"
      ]
     },
     "execution_count": 9,
     "metadata": {},
     "output_type": "execute_result"
    }
   ],
   "source": [
    "absoluteZ = abs(norm.ppf(0.05))\n",
    "upperCI = a_mean + absoluteZ*a_std/math.sqrt(n-1)\n",
    "upperCI"
   ]
  },
  {
   "cell_type": "code",
   "execution_count": 10,
   "id": "nonprofit-chosen",
   "metadata": {},
   "outputs": [
    {
     "data": {
      "text/plain": [
       "41.784501841214066"
      ]
     },
     "execution_count": 10,
     "metadata": {},
     "output_type": "execute_result"
    }
   ],
   "source": [
    "lowerCI = a_mean - absoluteZ*a_std/math.sqrt(n-1)\n",
    "lowerCI"
   ]
  },
  {
   "cell_type": "code",
   "execution_count": 43,
   "id": "front-theta",
   "metadata": {},
   "outputs": [
    {
     "data": {
      "text/plain": [
       "43.62005349235966"
      ]
     },
     "execution_count": 43,
     "metadata": {},
     "output_type": "execute_result"
    }
   ],
   "source": [
    "upperCI = b_mean + absoluteZ*b_std/math.sqrt(n-1)\n",
    "upperCI"
   ]
  },
  {
   "cell_type": "code",
   "execution_count": 42,
   "id": "intense-crossing",
   "metadata": {},
   "outputs": [
    {
     "data": {
      "text/plain": [
       "42.83994650764035"
      ]
     },
     "execution_count": 42,
     "metadata": {},
     "output_type": "execute_result"
    }
   ],
   "source": [
    "lowerCI = b_mean - absoluteZ*b_std/math.sqrt(n-1)\n",
    "lowerCI"
   ]
  },
  {
   "cell_type": "markdown",
   "id": "collectible-terminal",
   "metadata": {},
   "source": [
    "#### Result = the new machine is faster than the old machine"
   ]
  },
  {
   "cell_type": "markdown",
   "id": "black-adelaide",
   "metadata": {},
   "source": [
    "--------------------"
   ]
  },
  {
   "cell_type": "markdown",
   "id": "greenhouse-bristol",
   "metadata": {},
   "source": [
    "In this case we can't assume that the population variances are equal. Hence in this case we cannot pool the variances. Independent random samples of 17 sophomores and 13 juniors attending a large university yield the following data on grade point averages. Data is provided in the file files_for_lab/student_gpa.txt. At the 5% significance level, do the data provide sufficient evidence to conclude that the mean GPAs of sophomores and juniors at the university differ?\n",
    "\n",
    "Test statistics can be calculated as: link to the image - Test statistics calculation for Unpooled Variance Case\n",
    "\n",
    "Degrees of freedom is (n1-1)+(n2-1)."
   ]
  },
  {
   "cell_type": "code",
   "execution_count": 20,
   "id": "expired-pickup",
   "metadata": {},
   "outputs": [],
   "source": [
    "Sophomores = [3.04, 1.71, 3.3,2.88,2.11,2.6,2.92,3.6,2.28,2.82,3.03,3.13,2.86,3.49,3.11,2.13,3.27]\n",
    "Juniors = [2.56,2.77, 2.7,3, 2.98, 3.47, 3.26,3.2,3.19,2.65,3,3.39,2.58]"
   ]
  },
  {
   "cell_type": "code",
   "execution_count": 23,
   "id": "egyptian-humanity",
   "metadata": {},
   "outputs": [],
   "source": [
    "df=pd.read_csv('data/student_gpa.txt', sep = \"\\t\")"
   ]
  },
  {
   "cell_type": "code",
   "execution_count": 24,
   "id": "israeli-bracket",
   "metadata": {},
   "outputs": [],
   "source": [
    "df = df.rename(columns={'  Juniors': 'Juniors'})"
   ]
  },
  {
   "cell_type": "code",
   "execution_count": 25,
   "id": "weekly-passport",
   "metadata": {},
   "outputs": [
    {
     "data": {
      "text/html": [
       "<div>\n",
       "<style scoped>\n",
       "    .dataframe tbody tr th:only-of-type {\n",
       "        vertical-align: middle;\n",
       "    }\n",
       "\n",
       "    .dataframe tbody tr th {\n",
       "        vertical-align: top;\n",
       "    }\n",
       "\n",
       "    .dataframe thead th {\n",
       "        text-align: right;\n",
       "    }\n",
       "</style>\n",
       "<table border=\"1\" class=\"dataframe\">\n",
       "  <thead>\n",
       "    <tr style=\"text-align: right;\">\n",
       "      <th></th>\n",
       "      <th>Sophomores</th>\n",
       "      <th>Juniors</th>\n",
       "    </tr>\n",
       "  </thead>\n",
       "  <tbody>\n",
       "    <tr>\n",
       "      <th>0</th>\n",
       "      <td>3.04</td>\n",
       "      <td>2.56</td>\n",
       "    </tr>\n",
       "    <tr>\n",
       "      <th>1</th>\n",
       "      <td>1.71</td>\n",
       "      <td>2.77</td>\n",
       "    </tr>\n",
       "    <tr>\n",
       "      <th>2</th>\n",
       "      <td>3.30</td>\n",
       "      <td>2.70</td>\n",
       "    </tr>\n",
       "    <tr>\n",
       "      <th>3</th>\n",
       "      <td>2.88</td>\n",
       "      <td>3.00</td>\n",
       "    </tr>\n",
       "    <tr>\n",
       "      <th>4</th>\n",
       "      <td>2.11</td>\n",
       "      <td>2.98</td>\n",
       "    </tr>\n",
       "    <tr>\n",
       "      <th>5</th>\n",
       "      <td>2.60</td>\n",
       "      <td>3.47</td>\n",
       "    </tr>\n",
       "    <tr>\n",
       "      <th>6</th>\n",
       "      <td>2.92</td>\n",
       "      <td>3.26</td>\n",
       "    </tr>\n",
       "    <tr>\n",
       "      <th>7</th>\n",
       "      <td>3.60</td>\n",
       "      <td>3.20</td>\n",
       "    </tr>\n",
       "    <tr>\n",
       "      <th>8</th>\n",
       "      <td>2.28</td>\n",
       "      <td>3.19</td>\n",
       "    </tr>\n",
       "    <tr>\n",
       "      <th>9</th>\n",
       "      <td>2.82</td>\n",
       "      <td>2.65</td>\n",
       "    </tr>\n",
       "    <tr>\n",
       "      <th>10</th>\n",
       "      <td>3.03</td>\n",
       "      <td>3.00</td>\n",
       "    </tr>\n",
       "    <tr>\n",
       "      <th>11</th>\n",
       "      <td>3.13</td>\n",
       "      <td>3.39</td>\n",
       "    </tr>\n",
       "    <tr>\n",
       "      <th>12</th>\n",
       "      <td>2.86</td>\n",
       "      <td>2.58</td>\n",
       "    </tr>\n",
       "    <tr>\n",
       "      <th>13</th>\n",
       "      <td>3.49</td>\n",
       "      <td>NaN</td>\n",
       "    </tr>\n",
       "    <tr>\n",
       "      <th>14</th>\n",
       "      <td>3.11</td>\n",
       "      <td>NaN</td>\n",
       "    </tr>\n",
       "    <tr>\n",
       "      <th>15</th>\n",
       "      <td>2.13</td>\n",
       "      <td>NaN</td>\n",
       "    </tr>\n",
       "    <tr>\n",
       "      <th>16</th>\n",
       "      <td>3.27</td>\n",
       "      <td>NaN</td>\n",
       "    </tr>\n",
       "  </tbody>\n",
       "</table>\n",
       "</div>"
      ],
      "text/plain": [
       "    Sophomores  Juniors\n",
       "0         3.04     2.56\n",
       "1         1.71     2.77\n",
       "2         3.30     2.70\n",
       "3         2.88     3.00\n",
       "4         2.11     2.98\n",
       "5         2.60     3.47\n",
       "6         2.92     3.26\n",
       "7         3.60     3.20\n",
       "8         2.28     3.19\n",
       "9         2.82     2.65\n",
       "10        3.03     3.00\n",
       "11        3.13     3.39\n",
       "12        2.86     2.58\n",
       "13        3.49      NaN\n",
       "14        3.11      NaN\n",
       "15        2.13      NaN\n",
       "16        3.27      NaN"
      ]
     },
     "execution_count": 25,
     "metadata": {},
     "output_type": "execute_result"
    }
   ],
   "source": [
    "df"
   ]
  },
  {
   "cell_type": "code",
   "execution_count": 36,
   "id": "every-playlist",
   "metadata": {},
   "outputs": [],
   "source": [
    "sopho_mean= np.mean(df[\"Sophomores\"])\n",
    "juniors_mean= np.mean(df['Juniors'])\n",
    "sopho_std = np.std(df[\"Sophomores\"])\n",
    "juniors_std = np.std(df['Juniors'])\n",
    "juniors_n = (len(df['Juniors']) - (df['Juniors'].isna().sum()))\n",
    "sopho_n = (len(df[\"Sophomores\"]) - (df[\"Sophomores\"].isna().sum()))"
   ]
  },
  {
   "cell_type": "code",
   "execution_count": 44,
   "id": "immune-blackjack",
   "metadata": {},
   "outputs": [
    {
     "data": {
      "text/plain": [
       "-0.9544689615323313"
      ]
     },
     "execution_count": 44,
     "metadata": {},
     "output_type": "execute_result"
    }
   ],
   "source": [
    "statistic2 = (sopho_mean - juniors_mean)/(math.sqrt(((sopho_std**2)/sopho_n)+(juniors_std**2)/juniors_n))\n",
    "statistic2"
   ]
  },
  {
   "cell_type": "code",
   "execution_count": 45,
   "id": "eligible-horizon",
   "metadata": {},
   "outputs": [
    {
     "data": {
      "text/plain": [
       "3.0473793738513937"
      ]
     },
     "execution_count": 45,
     "metadata": {},
     "output_type": "execute_result"
    }
   ],
   "source": [
    "absoluteZ = abs(norm.ppf(0.05))\n",
    "upperCI = sopho_mean + absoluteZ*sopho_std/math.sqrt(sopho_n-1)\n",
    "upperCI"
   ]
  },
  {
   "cell_type": "code",
   "execution_count": 46,
   "id": "theoretical-target",
   "metadata": {},
   "outputs": [
    {
     "data": {
      "text/plain": [
       "2.632620626148606"
      ]
     },
     "execution_count": 46,
     "metadata": {},
     "output_type": "execute_result"
    }
   ],
   "source": [
    "lowerCI = sopho_mean - absoluteZ*sopho_std/math.sqrt(sopho_n-1)\n",
    "lowerCI"
   ]
  },
  {
   "cell_type": "code",
   "execution_count": 47,
   "id": "bigger-scottish",
   "metadata": {},
   "outputs": [
    {
     "data": {
      "text/plain": [
       "3.1218532076346337"
      ]
     },
     "execution_count": 47,
     "metadata": {},
     "output_type": "execute_result"
    }
   ],
   "source": [
    "upperCI = juniors_mean + absoluteZ*juniors_std/math.sqrt(juniors_n-1)\n",
    "upperCI"
   ]
  },
  {
   "cell_type": "code",
   "execution_count": 48,
   "id": "gorgeous-increase",
   "metadata": {},
   "outputs": [
    {
     "data": {
      "text/plain": [
       "2.839685253903828"
      ]
     },
     "execution_count": 48,
     "metadata": {},
     "output_type": "execute_result"
    }
   ],
   "source": [
    "lowerCI = juniors_mean - absoluteZ*juniors_std/math.sqrt(juniors_n-1)\n",
    "lowerCI"
   ]
  },
  {
   "cell_type": "code",
   "execution_count": null,
   "id": "false-fifteen",
   "metadata": {},
   "outputs": [],
   "source": []
  }
 ],
 "metadata": {
  "kernelspec": {
   "display_name": "Python 3",
   "language": "python",
   "name": "python3"
  },
  "language_info": {
   "codemirror_mode": {
    "name": "ipython",
    "version": 3
   },
   "file_extension": ".py",
   "mimetype": "text/x-python",
   "name": "python",
   "nbconvert_exporter": "python",
   "pygments_lexer": "ipython3",
   "version": "3.9.2"
  }
 },
 "nbformat": 4,
 "nbformat_minor": 5
}
