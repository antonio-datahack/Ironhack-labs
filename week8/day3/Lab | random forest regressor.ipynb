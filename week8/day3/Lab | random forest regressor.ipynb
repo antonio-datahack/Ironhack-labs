{
 "cells": [
  {
   "cell_type": "code",
   "execution_count": 87,
   "metadata": {},
   "outputs": [],
   "source": [
    "import pandas as pd\n",
    "import matplotlib.pyplot as plt\n",
    "import seaborn as sns\n",
    "%matplotlib inline\n",
    "import numpy as np\n",
    "import warnings\n",
    "warnings.filterwarnings('ignore')"
   ]
  },
  {
   "cell_type": "markdown",
   "metadata": {},
   "source": [
    "### Read the data "
   ]
  },
  {
   "cell_type": "code",
   "execution_count": 88,
   "metadata": {},
   "outputs": [],
   "source": [
    "# Importing cookies.csv\n",
    "df = pd.read_csv('cookies.csv')"
   ]
  },
  {
   "cell_type": "code",
   "execution_count": 89,
   "metadata": {},
   "outputs": [
    {
     "data": {
      "text/html": [
       "<div>\n",
       "<style scoped>\n",
       "    .dataframe tbody tr th:only-of-type {\n",
       "        vertical-align: middle;\n",
       "    }\n",
       "\n",
       "    .dataframe tbody tr th {\n",
       "        vertical-align: top;\n",
       "    }\n",
       "\n",
       "    .dataframe thead th {\n",
       "        text-align: right;\n",
       "    }\n",
       "</style>\n",
       "<table border=\"1\" class=\"dataframe\">\n",
       "  <thead>\n",
       "    <tr style=\"text-align: right;\">\n",
       "      <th></th>\n",
       "      <th>sugar to flour ratio</th>\n",
       "      <th>sugar index</th>\n",
       "      <th>bake temp</th>\n",
       "      <th>chill time</th>\n",
       "      <th>calories</th>\n",
       "      <th>density</th>\n",
       "      <th>pH</th>\n",
       "      <th>grams baking soda</th>\n",
       "      <th>bake time</th>\n",
       "      <th>quality</th>\n",
       "      <th>butter type</th>\n",
       "      <th>weight</th>\n",
       "      <th>diameter</th>\n",
       "      <th>mixins</th>\n",
       "      <th>crunch factor</th>\n",
       "      <th>aesthetic appeal</th>\n",
       "    </tr>\n",
       "  </thead>\n",
       "  <tbody>\n",
       "    <tr>\n",
       "      <th>0</th>\n",
       "      <td>0.25</td>\n",
       "      <td>9.5</td>\n",
       "      <td>300</td>\n",
       "      <td>15.0</td>\n",
       "      <td>136.0</td>\n",
       "      <td>0.99367</td>\n",
       "      <td>8.10</td>\n",
       "      <td>0.44</td>\n",
       "      <td>12.1</td>\n",
       "      <td>8</td>\n",
       "      <td>melted</td>\n",
       "      <td>15.2</td>\n",
       "      <td>7</td>\n",
       "      <td>raisins</td>\n",
       "      <td>1.30</td>\n",
       "      <td>3</td>\n",
       "    </tr>\n",
       "    <tr>\n",
       "      <th>1</th>\n",
       "      <td>0.23</td>\n",
       "      <td>3.3</td>\n",
       "      <td>520</td>\n",
       "      <td>34.0</td>\n",
       "      <td>113.0</td>\n",
       "      <td>0.99429</td>\n",
       "      <td>8.16</td>\n",
       "      <td>0.48</td>\n",
       "      <td>8.4</td>\n",
       "      <td>7</td>\n",
       "      <td>melted</td>\n",
       "      <td>12.4</td>\n",
       "      <td>7</td>\n",
       "      <td>raisins</td>\n",
       "      <td>1.71</td>\n",
       "      <td>3</td>\n",
       "    </tr>\n",
       "    <tr>\n",
       "      <th>2</th>\n",
       "      <td>0.18</td>\n",
       "      <td>1.9</td>\n",
       "      <td>360</td>\n",
       "      <td>33.0</td>\n",
       "      <td>106.0</td>\n",
       "      <td>0.98746</td>\n",
       "      <td>8.21</td>\n",
       "      <td>0.83</td>\n",
       "      <td>14.0</td>\n",
       "      <td>9</td>\n",
       "      <td>melted</td>\n",
       "      <td>9.4</td>\n",
       "      <td>7</td>\n",
       "      <td>nuts, chocolate</td>\n",
       "      <td>1.78</td>\n",
       "      <td>3</td>\n",
       "    </tr>\n",
       "    <tr>\n",
       "      <th>3</th>\n",
       "      <td>0.18</td>\n",
       "      <td>10.5</td>\n",
       "      <td>490</td>\n",
       "      <td>41.0</td>\n",
       "      <td>124.0</td>\n",
       "      <td>0.99630</td>\n",
       "      <td>8.14</td>\n",
       "      <td>0.35</td>\n",
       "      <td>10.5</td>\n",
       "      <td>7</td>\n",
       "      <td>melted</td>\n",
       "      <td>12.2</td>\n",
       "      <td>7</td>\n",
       "      <td>chocolate</td>\n",
       "      <td>1.59</td>\n",
       "      <td>3</td>\n",
       "    </tr>\n",
       "    <tr>\n",
       "      <th>4</th>\n",
       "      <td>0.24</td>\n",
       "      <td>2.4</td>\n",
       "      <td>770</td>\n",
       "      <td>6.0</td>\n",
       "      <td>33.0</td>\n",
       "      <td>0.99740</td>\n",
       "      <td>8.09</td>\n",
       "      <td>0.57</td>\n",
       "      <td>9.4</td>\n",
       "      <td>5</td>\n",
       "      <td>cubed</td>\n",
       "      <td>19.8</td>\n",
       "      <td>7</td>\n",
       "      <td>nuts, oats, chocolate</td>\n",
       "      <td>1.30</td>\n",
       "      <td>3</td>\n",
       "    </tr>\n",
       "  </tbody>\n",
       "</table>\n",
       "</div>"
      ],
      "text/plain": [
       "   sugar to flour ratio  sugar index  bake temp  chill time  calories  \\\n",
       "0                  0.25          9.5        300        15.0     136.0   \n",
       "1                  0.23          3.3        520        34.0     113.0   \n",
       "2                  0.18          1.9        360        33.0     106.0   \n",
       "3                  0.18         10.5        490        41.0     124.0   \n",
       "4                  0.24          2.4        770         6.0      33.0   \n",
       "\n",
       "   density    pH  grams baking soda  bake time  quality butter type  weight  \\\n",
       "0  0.99367  8.10               0.44       12.1        8      melted    15.2   \n",
       "1  0.99429  8.16               0.48        8.4        7      melted    12.4   \n",
       "2  0.98746  8.21               0.83       14.0        9      melted     9.4   \n",
       "3  0.99630  8.14               0.35       10.5        7      melted    12.2   \n",
       "4  0.99740  8.09               0.57        9.4        5       cubed    19.8   \n",
       "\n",
       "   diameter                 mixins  crunch factor  aesthetic appeal  \n",
       "0         7                raisins           1.30                 3  \n",
       "1         7                raisins           1.71                 3  \n",
       "2         7        nuts, chocolate           1.78                 3  \n",
       "3         7              chocolate           1.59                 3  \n",
       "4         7  nuts, oats, chocolate           1.30                 3  "
      ]
     },
     "execution_count": 89,
     "metadata": {},
     "output_type": "execute_result"
    }
   ],
   "source": [
    "# taking a look at the content of the dataframe\n",
    "df.head()"
   ]
  },
  {
   "cell_type": "markdown",
   "metadata": {},
   "source": [
    "### Exploratory Data Analysis and Descriptive Statistics"
   ]
  },
  {
   "cell_type": "code",
   "execution_count": 90,
   "metadata": {},
   "outputs": [
    {
     "name": "stdout",
     "output_type": "stream",
     "text": [
      "<class 'pandas.core.frame.DataFrame'>\n",
      "RangeIndex: 5198 entries, 0 to 5197\n",
      "Data columns (total 16 columns):\n",
      " #   Column                Non-Null Count  Dtype  \n",
      "---  ------                --------------  -----  \n",
      " 0   sugar to flour ratio  5198 non-null   float64\n",
      " 1   sugar index           5193 non-null   float64\n",
      " 2   bake temp             5198 non-null   int64  \n",
      " 3   chill time            5198 non-null   float64\n",
      " 4   calories              5198 non-null   float64\n",
      " 5   density               5198 non-null   float64\n",
      " 6   pH                    5198 non-null   float64\n",
      " 7   grams baking soda     5198 non-null   float64\n",
      " 8   bake time             5188 non-null   float64\n",
      " 9   quality               5198 non-null   int64  \n",
      " 10  butter type           5198 non-null   object \n",
      " 11  weight                5198 non-null   float64\n",
      " 12  diameter              5198 non-null   int64  \n",
      " 13  mixins                5196 non-null   object \n",
      " 14  crunch factor         5198 non-null   float64\n",
      " 15  aesthetic appeal      5198 non-null   int64  \n",
      "dtypes: float64(10), int64(4), object(2)\n",
      "memory usage: 649.9+ KB\n"
     ]
    }
   ],
   "source": [
    "# exploring data info\n",
    "df.info()"
   ]
  },
  {
   "cell_type": "code",
   "execution_count": 91,
   "metadata": {},
   "outputs": [
    {
     "data": {
      "text/plain": [
       "sugar to flour ratio    0.000000\n",
       "sugar index             0.096191\n",
       "bake temp               0.000000\n",
       "chill time              0.000000\n",
       "calories                0.000000\n",
       "density                 0.000000\n",
       "pH                      0.000000\n",
       "grams baking soda       0.000000\n",
       "bake time               0.192382\n",
       "quality                 0.000000\n",
       "butter type             0.000000\n",
       "weight                  0.000000\n",
       "diameter                0.000000\n",
       "mixins                  0.038476\n",
       "crunch factor           0.000000\n",
       "aesthetic appeal        0.000000\n",
       "dtype: float64"
      ]
     },
     "execution_count": 91,
     "metadata": {},
     "output_type": "execute_result"
    }
   ],
   "source": [
    "# Checking null values\n",
    "df.isnull().sum()*100/len(df)"
   ]
  },
  {
   "cell_type": "code",
   "execution_count": 92,
   "metadata": {},
   "outputs": [],
   "source": [
    "# As the percentage of nulls is lower than 1%, I'll delete the rows containing nulls.\n",
    "df= df.dropna()"
   ]
  },
  {
   "cell_type": "code",
   "execution_count": 93,
   "metadata": {},
   "outputs": [
    {
     "data": {
      "text/plain": [
       "(5181, 16)"
      ]
     },
     "execution_count": 93,
     "metadata": {},
     "output_type": "execute_result"
    }
   ],
   "source": [
    "df.shape"
   ]
  },
  {
   "cell_type": "markdown",
   "metadata": {},
   "source": [
    "## Bake time "
   ]
  },
  {
   "cell_type": "code",
   "execution_count": 94,
   "metadata": {},
   "outputs": [
    {
     "data": {
      "text/plain": [
       "count    5181.000000\n",
       "mean       10.495561\n",
       "std         1.194958\n",
       "min         8.000000\n",
       "25%         9.500000\n",
       "50%        10.300000\n",
       "75%        11.300000\n",
       "max        14.900000\n",
       "Name: bake time, dtype: float64"
      ]
     },
     "execution_count": 94,
     "metadata": {},
     "output_type": "execute_result"
    }
   ],
   "source": [
    "df['bake time'].describe()"
   ]
  },
  {
   "cell_type": "code",
   "execution_count": 95,
   "metadata": {},
   "outputs": [
    {
     "data": {
      "image/png": "[encoded data removed]",
      "text/plain": [
       "<Figure size 540x540 with 12 Axes>"
      ]
     },
     "metadata": {
      "needs_background": "light"
     },
     "output_type": "display_data"
    }
   ],
   "source": [
    "sns.pairplot(df[['quality', 'bake time', 'bake temp']]);"
   ]
  },
  {
   "cell_type": "code",
   "execution_count": 96,
   "metadata": {},
   "outputs": [
    {
     "data": {
      "image/png": "[encoded data removed]",
      "text/plain": [
       "<Figure size 1152x432 with 2 Axes>"
      ]
     },
     "metadata": {
      "needs_background": "light"
     },
     "output_type": "display_data"
    }
   ],
   "source": [
    "plt.figure(figsize=(16, 6))\n",
    "mask = np.triu(np.ones_like(df.corr(), dtype=np.bool))\n",
    "heatmap = sns.heatmap(df.corr(), mask=mask, vmin=-1, vmax=1, annot=True, cmap='BrBG')"
   ]
  },
  {
   "cell_type": "code",
   "execution_count": 97,
   "metadata": {},
   "outputs": [
    {
     "name": "stdout",
     "output_type": "stream",
     "text": [
      "sugar to flour ratio --> 0.17992898765039814\n",
      "sugar index --> 0.2199585681799637\n",
      "bake temp --> -0.4708953237072917\n",
      "chill time --> 0.36492489782981047\n",
      "calories --> 0.4400803834300934\n",
      "density --> -0.01752311822498871\n",
      "pH --> -0.11372471128992208\n",
      "grams baking soda --> -0.306251039857662\n",
      "bake time --> 0.3154452163603215\n",
      "quality --> 1.0\n",
      "weight --> -0.32853394695701027\n",
      "diameter --> nan\n",
      "crunch factor --> 0.008345525940834762\n",
      "aesthetic appeal --> 0.0001427068541878239\n"
     ]
    }
   ],
   "source": [
    "num_cols = df.select_dtypes(include=[\"int64\", \"float64\"]).columns\n",
    "\n",
    "for column in num_cols:\n",
    "    print(column, '-->', df['quality'].corr(df[column]))"
   ]
  },
  {
   "cell_type": "markdown",
   "metadata": {},
   "source": [
    "## butter type"
   ]
  },
  {
   "cell_type": "code",
   "execution_count": 98,
   "metadata": {},
   "outputs": [
    {
     "data": {
      "text/plain": [
       "melted    3908\n",
       "cubed     1273\n",
       "Name: butter type, dtype: int64"
      ]
     },
     "execution_count": 98,
     "metadata": {},
     "output_type": "execute_result"
    }
   ],
   "source": [
    "df['butter type'].value_counts()"
   ]
  },
  {
   "cell_type": "markdown",
   "metadata": {},
   "source": [
    "## aesthetic appeal"
   ]
  },
  {
   "cell_type": "code",
   "execution_count": 99,
   "metadata": {},
   "outputs": [
    {
     "data": {
      "text/plain": [
       "3    5178\n",
       "4       3\n",
       "Name: aesthetic appeal, dtype: int64"
      ]
     },
     "execution_count": 99,
     "metadata": {},
     "output_type": "execute_result"
    }
   ],
   "source": [
    "df['aesthetic appeal'].value_counts()"
   ]
  },
  {
   "cell_type": "markdown",
   "metadata": {},
   "source": [
    "Thoughts on aesthetics : \n",
    "    not many values - drop column "
   ]
  },
  {
   "cell_type": "markdown",
   "metadata": {},
   "source": [
    "## weight"
   ]
  },
  {
   "cell_type": "code",
   "execution_count": 100,
   "metadata": {},
   "outputs": [
    {
     "data": {
      "text/plain": [
       "count    5181.000000\n",
       "mean       14.383922\n",
       "std         3.027030\n",
       "min       -99.000000\n",
       "25%        12.800000\n",
       "50%        14.000000\n",
       "75%        15.400000\n",
       "max        31.800000\n",
       "Name: weight, dtype: float64"
      ]
     },
     "execution_count": 100,
     "metadata": {},
     "output_type": "execute_result"
    }
   ],
   "source": [
    "df['weight'].describe()"
   ]
  },
  {
   "cell_type": "code",
   "execution_count": 101,
   "metadata": {},
   "outputs": [
    {
     "data": {
      "text/plain": [
       "array([ 15.2,  12.4,   9.4,  12.2,  19.8,  13.2,  14.2,  13.8,  12.6,\n",
       "        13. ,  12. ,  14.6,  15.6,  14. ,  13.4,  16.8,  14.8,  13.6,\n",
       "        16. ,  11. ,  18.6,  10.6,  18.2,  15.8,  17.2,  14.3,  10.4,\n",
       "        11.8,  11.6,  15.4,  21.6,  12.8,  20.2,  14.4,  12.3,  23.8,\n",
       "        11.2,  11.4,  15. ,  19.6,  17.4,  16.4,  19.2,  10.8,  18. ,\n",
       "        26. ,  16.6,  16.2,  19. ,  10. ,  21.4,  20.4,  17. ,  31.2,\n",
       "        17.8,  22.6,   9.8,  23. ,  18.8,  26.6,  20.8,  26.4,  10.2,\n",
       "        22.2,  23.4,  18.4,  17.6,  28.4,  24.6,  20.6,  25. ,  24.2,\n",
       "        22.8,  24. ,  23.2,  24.4,  26.8,  22.4,  19.4,  23.6,  27.4,\n",
       "        28. ,  22. ,  21.8,  25.2,  25.8,  20. ,  21.2,  21. , -99. ,\n",
       "        25.6,  31. ,   9. ,  24.8,  25.4,   9.6,   8.8,  30. ,  12.9,\n",
       "         9.2,  31.8,   7.6,   7.8,   8.4,  28.6])"
      ]
     },
     "execution_count": 101,
     "metadata": {},
     "output_type": "execute_result"
    }
   ],
   "source": [
    "df['weight'].unique()"
   ]
  },
  {
   "cell_type": "markdown",
   "metadata": {},
   "source": [
    "Thoughts on weight : \n",
    "\n",
    "    Remove -99 value"
   ]
  },
  {
   "cell_type": "markdown",
   "metadata": {},
   "source": [
    "## diameter"
   ]
  },
  {
   "cell_type": "code",
   "execution_count": 102,
   "metadata": {},
   "outputs": [
    {
     "data": {
      "text/plain": [
       "array([7])"
      ]
     },
     "execution_count": 102,
     "metadata": {},
     "output_type": "execute_result"
    }
   ],
   "source": [
    "df['diameter'].unique()"
   ]
  },
  {
   "cell_type": "markdown",
   "metadata": {},
   "source": [
    "Thoughts on diameter : \n",
    "\n",
    "    All equal to 7 - column can be dropped "
   ]
  },
  {
   "cell_type": "markdown",
   "metadata": {},
   "source": [
    "## bake time"
   ]
  },
  {
   "cell_type": "code",
   "execution_count": 103,
   "metadata": {},
   "outputs": [
    {
     "data": {
      "text/plain": [
       "count    5181.000000\n",
       "mean       10.495561\n",
       "std         1.194958\n",
       "min         8.000000\n",
       "25%         9.500000\n",
       "50%        10.300000\n",
       "75%        11.300000\n",
       "max        14.900000\n",
       "Name: bake time, dtype: float64"
      ]
     },
     "execution_count": 103,
     "metadata": {},
     "output_type": "execute_result"
    }
   ],
   "source": [
    "df['bake time'].describe()"
   ]
  },
  {
   "cell_type": "code",
   "execution_count": 104,
   "metadata": {},
   "outputs": [
    {
     "data": {
      "text/plain": [
       "Series([], Name: quality, dtype: int64)"
      ]
     },
     "execution_count": 104,
     "metadata": {},
     "output_type": "execute_result"
    }
   ],
   "source": [
    "df[df['bake time'].isnull()]['quality']"
   ]
  },
  {
   "cell_type": "markdown",
   "metadata": {},
   "source": [
    "Thoughts on Bake time \n",
    "\n",
    "    judging by the spread of nulls across quality bands, any missing values could be replaced by mean or rows dropped "
   ]
  },
  {
   "cell_type": "markdown",
   "metadata": {},
   "source": [
    "## crunch factor"
   ]
  },
  {
   "cell_type": "code",
   "execution_count": 108,
   "metadata": {},
   "outputs": [
    {
     "data": {
      "image/png": "[encoded data removed]",
      "text/plain": [
       "<Figure size 432x288 with 1 Axes>"
      ]
     },
     "metadata": {},
     "output_type": "display_data"
    }
   ],
   "source": [
    "sns.set_style(\"ticks\")\n",
    "plt.hist(df['crunch factor'], bins=15);"
   ]
  },
  {
   "cell_type": "code",
   "execution_count": 107,
   "metadata": {},
   "outputs": [
    {
     "data": {
      "image/png": "[encoded data removed]",
      "text/plain": [
       "<Figure size 432x288 with 1 Axes>"
      ]
     },
     "metadata": {},
     "output_type": "display_data"
    }
   ],
   "source": [
    "sns.set_style(\"dark\")\n",
    "m1 = sns.distplot(df['crunch factor'], bins=10)"
   ]
  },
  {
   "cell_type": "code",
   "execution_count": 106,
   "metadata": {},
   "outputs": [
    {
     "name": "stdout",
     "output_type": "stream",
     "text": [
      "<class 'pandas.core.frame.DataFrame'>\n",
      "Int64Index: 5181 entries, 0 to 5197\n",
      "Data columns (total 16 columns):\n",
      " #   Column                Non-Null Count  Dtype  \n",
      "---  ------                --------------  -----  \n",
      " 0   sugar to flour ratio  5181 non-null   float64\n",
      " 1   sugar index           5181 non-null   float64\n",
      " 2   bake temp             5181 non-null   int64  \n",
      " 3   chill time            5181 non-null   float64\n",
      " 4   calories              5181 non-null   float64\n",
      " 5   density               5181 non-null   float64\n",
      " 6   pH                    5181 non-null   float64\n",
      " 7   grams baking soda     5181 non-null   float64\n",
      " 8   bake time             5181 non-null   float64\n",
      " 9   quality               5181 non-null   int64  \n",
      " 10  butter type           5181 non-null   object \n",
      " 11  weight                5181 non-null   float64\n",
      " 12  diameter              5181 non-null   int64  \n",
      " 13  mixins                5181 non-null   object \n",
      " 14  crunch factor         5181 non-null   float64\n",
      " 15  aesthetic appeal      5181 non-null   int64  \n",
      "dtypes: float64(10), int64(4), object(2)\n",
      "memory usage: 817.1+ KB\n"
     ]
    }
   ],
   "source": [
    "df.info()"
   ]
  },
  {
   "cell_type": "markdown",
   "metadata": {},
   "source": [
    "## mixins"
   ]
  },
  {
   "cell_type": "code",
   "execution_count": 21,
   "metadata": {},
   "outputs": [
    {
     "data": {
      "text/plain": [
       "0                     raisins\n",
       "1                     raisins\n",
       "2             nuts, chocolate\n",
       "3                   chocolate\n",
       "4       nuts, oats, chocolate\n",
       "                ...          \n",
       "5193            peanut butter\n",
       "5194                  raisins\n",
       "5195          chocolate, oats\n",
       "5196                chocolate\n",
       "5197                chocolate\n",
       "Name: mixins, Length: 5181, dtype: object"
      ]
     },
     "execution_count": 21,
     "metadata": {},
     "output_type": "execute_result"
    }
   ],
   "source": [
    "df['mixins']"
   ]
  },
  {
   "cell_type": "code",
   "execution_count": 22,
   "metadata": {},
   "outputs": [
    {
     "data": {
      "text/plain": [
       "array(['raisins', 'nuts, chocolate', 'chocolate', 'nuts, oats, chocolate',\n",
       "       'chocolate, oats', 'raisins, oats', 'nuts,raisins', 'nuts, oats',\n",
       "       'chocolate, peanut butter', 'chocolate, oats, peanut butter',\n",
       "       'peanut butter', 'peanut butter, raisins', 'oats'], dtype=object)"
      ]
     },
     "execution_count": 22,
     "metadata": {},
     "output_type": "execute_result"
    }
   ],
   "source": [
    "df['mixins'].unique()"
   ]
  },
  {
   "cell_type": "code",
   "execution_count": 23,
   "metadata": {},
   "outputs": [
    {
     "data": {
      "text/plain": [
       "13"
      ]
     },
     "execution_count": 23,
     "metadata": {},
     "output_type": "execute_result"
    }
   ],
   "source": [
    "df['mixins'].nunique()"
   ]
  },
  {
   "cell_type": "code",
   "execution_count": 24,
   "metadata": {},
   "outputs": [
    {
     "data": {
      "text/plain": [
       "chocolate                         1892\n",
       "raisins                           1196\n",
       "chocolate, oats                    745\n",
       "nuts, chocolate                    519\n",
       "nuts,raisins                       331\n",
       "nuts, oats, chocolate              293\n",
       "nuts, oats                         107\n",
       "chocolate, peanut butter            52\n",
       "raisins, oats                       24\n",
       "peanut butter                       15\n",
       "oats                                 4\n",
       "chocolate, oats, peanut butter       2\n",
       "peanut butter, raisins               1\n",
       "Name: mixins, dtype: int64"
      ]
     },
     "execution_count": 24,
     "metadata": {},
     "output_type": "execute_result"
    }
   ],
   "source": [
    "df['mixins'].value_counts()"
   ]
  },
  {
   "cell_type": "markdown",
   "metadata": {},
   "source": [
    "### Wrangling the data / making small changes "
   ]
  },
  {
   "cell_type": "code",
   "execution_count": 25,
   "metadata": {},
   "outputs": [
    {
     "data": {
      "text/plain": [
       "16"
      ]
     },
     "execution_count": 25,
     "metadata": {},
     "output_type": "execute_result"
    }
   ],
   "source": [
    "len(df.columns)"
   ]
  },
  {
   "cell_type": "code",
   "execution_count": 26,
   "metadata": {},
   "outputs": [],
   "source": [
    "df.drop(columns=[\"aesthetic appeal\", \"diameter\"], inplace=True)"
   ]
  },
  {
   "cell_type": "code",
   "execution_count": 27,
   "metadata": {},
   "outputs": [],
   "source": [
    "#remove -99\n",
    "df = df.drop(df[df['weight'] == -99].index)"
   ]
  },
  {
   "cell_type": "code",
   "execution_count": 28,
   "metadata": {},
   "outputs": [
    {
     "data": {
      "text/plain": [
       "14"
      ]
     },
     "execution_count": 28,
     "metadata": {},
     "output_type": "execute_result"
    }
   ],
   "source": [
    "len(df.columns)"
   ]
  },
  {
   "cell_type": "code",
   "execution_count": 29,
   "metadata": {},
   "outputs": [],
   "source": [
    "df=df.dropna(subset=['mixins'])"
   ]
  },
  {
   "cell_type": "code",
   "execution_count": 30,
   "metadata": {},
   "outputs": [
    {
     "name": "stdout",
     "output_type": "stream",
     "text": [
      "<class 'pandas.core.frame.DataFrame'>\n",
      "Int64Index: 5180 entries, 0 to 5197\n",
      "Data columns (total 14 columns):\n",
      " #   Column                Non-Null Count  Dtype  \n",
      "---  ------                --------------  -----  \n",
      " 0   sugar to flour ratio  5180 non-null   float64\n",
      " 1   sugar index           5180 non-null   float64\n",
      " 2   bake temp             5180 non-null   int64  \n",
      " 3   chill time            5180 non-null   float64\n",
      " 4   calories              5180 non-null   float64\n",
      " 5   density               5180 non-null   float64\n",
      " 6   pH                    5180 non-null   float64\n",
      " 7   grams baking soda     5180 non-null   float64\n",
      " 8   bake time             5180 non-null   float64\n",
      " 9   quality               5180 non-null   int64  \n",
      " 10  butter type           5180 non-null   object \n",
      " 11  weight                5180 non-null   float64\n",
      " 12  mixins                5180 non-null   object \n",
      " 13  crunch factor         5180 non-null   float64\n",
      "dtypes: float64(10), int64(2), object(2)\n",
      "memory usage: 607.0+ KB\n"
     ]
    }
   ],
   "source": [
    "df.info()"
   ]
  },
  {
   "cell_type": "code",
   "execution_count": 31,
   "metadata": {},
   "outputs": [],
   "source": [
    "df.reset_index(drop=True, inplace=True)"
   ]
  },
  {
   "cell_type": "code",
   "execution_count": 32,
   "metadata": {},
   "outputs": [],
   "source": [
    "df['chocolate'] = 0\n",
    "df['raisins'] = 0\n",
    "df['oats'] = 0\n",
    "df['nuts'] = 0\n",
    "df['peanut butter'] = 0"
   ]
  },
  {
   "cell_type": "code",
   "execution_count": 33,
   "metadata": {},
   "outputs": [
    {
     "data": {
      "text/html": [
       "<div>\n",
       "<style scoped>\n",
       "    .dataframe tbody tr th:only-of-type {\n",
       "        vertical-align: middle;\n",
       "    }\n",
       "\n",
       "    .dataframe tbody tr th {\n",
       "        vertical-align: top;\n",
       "    }\n",
       "\n",
       "    .dataframe thead th {\n",
       "        text-align: right;\n",
       "    }\n",
       "</style>\n",
       "<table border=\"1\" class=\"dataframe\">\n",
       "  <thead>\n",
       "    <tr style=\"text-align: right;\">\n",
       "      <th></th>\n",
       "      <th>sugar to flour ratio</th>\n",
       "      <th>sugar index</th>\n",
       "      <th>bake temp</th>\n",
       "      <th>chill time</th>\n",
       "      <th>calories</th>\n",
       "      <th>density</th>\n",
       "      <th>pH</th>\n",
       "      <th>grams baking soda</th>\n",
       "      <th>bake time</th>\n",
       "      <th>quality</th>\n",
       "      <th>butter type</th>\n",
       "      <th>weight</th>\n",
       "      <th>mixins</th>\n",
       "      <th>crunch factor</th>\n",
       "      <th>chocolate</th>\n",
       "      <th>raisins</th>\n",
       "      <th>oats</th>\n",
       "      <th>nuts</th>\n",
       "      <th>peanut butter</th>\n",
       "    </tr>\n",
       "  </thead>\n",
       "  <tbody>\n",
       "    <tr>\n",
       "      <th>0</th>\n",
       "      <td>0.25</td>\n",
       "      <td>9.5</td>\n",
       "      <td>300</td>\n",
       "      <td>15.0</td>\n",
       "      <td>136.0</td>\n",
       "      <td>0.99367</td>\n",
       "      <td>8.10</td>\n",
       "      <td>0.44</td>\n",
       "      <td>12.1</td>\n",
       "      <td>8</td>\n",
       "      <td>melted</td>\n",
       "      <td>15.2</td>\n",
       "      <td>raisins</td>\n",
       "      <td>1.30</td>\n",
       "      <td>0</td>\n",
       "      <td>0</td>\n",
       "      <td>0</td>\n",
       "      <td>0</td>\n",
       "      <td>0</td>\n",
       "    </tr>\n",
       "    <tr>\n",
       "      <th>1</th>\n",
       "      <td>0.23</td>\n",
       "      <td>3.3</td>\n",
       "      <td>520</td>\n",
       "      <td>34.0</td>\n",
       "      <td>113.0</td>\n",
       "      <td>0.99429</td>\n",
       "      <td>8.16</td>\n",
       "      <td>0.48</td>\n",
       "      <td>8.4</td>\n",
       "      <td>7</td>\n",
       "      <td>melted</td>\n",
       "      <td>12.4</td>\n",
       "      <td>raisins</td>\n",
       "      <td>1.71</td>\n",
       "      <td>0</td>\n",
       "      <td>0</td>\n",
       "      <td>0</td>\n",
       "      <td>0</td>\n",
       "      <td>0</td>\n",
       "    </tr>\n",
       "    <tr>\n",
       "      <th>2</th>\n",
       "      <td>0.18</td>\n",
       "      <td>1.9</td>\n",
       "      <td>360</td>\n",
       "      <td>33.0</td>\n",
       "      <td>106.0</td>\n",
       "      <td>0.98746</td>\n",
       "      <td>8.21</td>\n",
       "      <td>0.83</td>\n",
       "      <td>14.0</td>\n",
       "      <td>9</td>\n",
       "      <td>melted</td>\n",
       "      <td>9.4</td>\n",
       "      <td>nuts, chocolate</td>\n",
       "      <td>1.78</td>\n",
       "      <td>0</td>\n",
       "      <td>0</td>\n",
       "      <td>0</td>\n",
       "      <td>0</td>\n",
       "      <td>0</td>\n",
       "    </tr>\n",
       "    <tr>\n",
       "      <th>3</th>\n",
       "      <td>0.18</td>\n",
       "      <td>10.5</td>\n",
       "      <td>490</td>\n",
       "      <td>41.0</td>\n",
       "      <td>124.0</td>\n",
       "      <td>0.99630</td>\n",
       "      <td>8.14</td>\n",
       "      <td>0.35</td>\n",
       "      <td>10.5</td>\n",
       "      <td>7</td>\n",
       "      <td>melted</td>\n",
       "      <td>12.2</td>\n",
       "      <td>chocolate</td>\n",
       "      <td>1.59</td>\n",
       "      <td>0</td>\n",
       "      <td>0</td>\n",
       "      <td>0</td>\n",
       "      <td>0</td>\n",
       "      <td>0</td>\n",
       "    </tr>\n",
       "    <tr>\n",
       "      <th>4</th>\n",
       "      <td>0.24</td>\n",
       "      <td>2.4</td>\n",
       "      <td>770</td>\n",
       "      <td>6.0</td>\n",
       "      <td>33.0</td>\n",
       "      <td>0.99740</td>\n",
       "      <td>8.09</td>\n",
       "      <td>0.57</td>\n",
       "      <td>9.4</td>\n",
       "      <td>5</td>\n",
       "      <td>cubed</td>\n",
       "      <td>19.8</td>\n",
       "      <td>nuts, oats, chocolate</td>\n",
       "      <td>1.30</td>\n",
       "      <td>0</td>\n",
       "      <td>0</td>\n",
       "      <td>0</td>\n",
       "      <td>0</td>\n",
       "      <td>0</td>\n",
       "    </tr>\n",
       "  </tbody>\n",
       "</table>\n",
       "</div>"
      ],
      "text/plain": [
       "   sugar to flour ratio  sugar index  bake temp  chill time  calories  \\\n",
       "0                  0.25          9.5        300        15.0     136.0   \n",
       "1                  0.23          3.3        520        34.0     113.0   \n",
       "2                  0.18          1.9        360        33.0     106.0   \n",
       "3                  0.18         10.5        490        41.0     124.0   \n",
       "4                  0.24          2.4        770         6.0      33.0   \n",
       "\n",
       "   density    pH  grams baking soda  bake time  quality butter type  weight  \\\n",
       "0  0.99367  8.10               0.44       12.1        8      melted    15.2   \n",
       "1  0.99429  8.16               0.48        8.4        7      melted    12.4   \n",
       "2  0.98746  8.21               0.83       14.0        9      melted     9.4   \n",
       "3  0.99630  8.14               0.35       10.5        7      melted    12.2   \n",
       "4  0.99740  8.09               0.57        9.4        5       cubed    19.8   \n",
       "\n",
       "                  mixins  crunch factor  chocolate  raisins  oats  nuts  \\\n",
       "0                raisins           1.30          0        0     0     0   \n",
       "1                raisins           1.71          0        0     0     0   \n",
       "2        nuts, chocolate           1.78          0        0     0     0   \n",
       "3              chocolate           1.59          0        0     0     0   \n",
       "4  nuts, oats, chocolate           1.30          0        0     0     0   \n",
       "\n",
       "   peanut butter  \n",
       "0              0  \n",
       "1              0  \n",
       "2              0  \n",
       "3              0  \n",
       "4              0  "
      ]
     },
     "execution_count": 33,
     "metadata": {},
     "output_type": "execute_result"
    }
   ],
   "source": [
    "df.head()"
   ]
  },
  {
   "cell_type": "code",
   "execution_count": 34,
   "metadata": {},
   "outputs": [],
   "source": [
    "mixins = ['chocolate', 'raisins', 'oats', 'nuts', 'peanut butter']\n",
    "for mix in mixins:\n",
    "    for i in range(len(df)):\n",
    "        if mix in [x.strip() for x in df.loc[i, 'mixins'].split(',')]:\n",
    "            df.loc[i, mix] = 1"
   ]
  },
  {
   "cell_type": "code",
   "execution_count": 35,
   "metadata": {},
   "outputs": [
    {
     "data": {
      "text/html": [
       "<div>\n",
       "<style scoped>\n",
       "    .dataframe tbody tr th:only-of-type {\n",
       "        vertical-align: middle;\n",
       "    }\n",
       "\n",
       "    .dataframe tbody tr th {\n",
       "        vertical-align: top;\n",
       "    }\n",
       "\n",
       "    .dataframe thead th {\n",
       "        text-align: right;\n",
       "    }\n",
       "</style>\n",
       "<table border=\"1\" class=\"dataframe\">\n",
       "  <thead>\n",
       "    <tr style=\"text-align: right;\">\n",
       "      <th></th>\n",
       "      <th>sugar to flour ratio</th>\n",
       "      <th>sugar index</th>\n",
       "      <th>bake temp</th>\n",
       "      <th>chill time</th>\n",
       "      <th>calories</th>\n",
       "      <th>density</th>\n",
       "      <th>pH</th>\n",
       "      <th>grams baking soda</th>\n",
       "      <th>bake time</th>\n",
       "      <th>quality</th>\n",
       "      <th>butter type</th>\n",
       "      <th>weight</th>\n",
       "      <th>mixins</th>\n",
       "      <th>crunch factor</th>\n",
       "      <th>chocolate</th>\n",
       "      <th>raisins</th>\n",
       "      <th>oats</th>\n",
       "      <th>nuts</th>\n",
       "      <th>peanut butter</th>\n",
       "    </tr>\n",
       "  </thead>\n",
       "  <tbody>\n",
       "    <tr>\n",
       "      <th>0</th>\n",
       "      <td>0.25</td>\n",
       "      <td>9.5</td>\n",
       "      <td>300</td>\n",
       "      <td>15.0</td>\n",
       "      <td>136.0</td>\n",
       "      <td>0.99367</td>\n",
       "      <td>8.10</td>\n",
       "      <td>0.44</td>\n",
       "      <td>12.1</td>\n",
       "      <td>8</td>\n",
       "      <td>melted</td>\n",
       "      <td>15.2</td>\n",
       "      <td>raisins</td>\n",
       "      <td>1.30</td>\n",
       "      <td>0</td>\n",
       "      <td>1</td>\n",
       "      <td>0</td>\n",
       "      <td>0</td>\n",
       "      <td>0</td>\n",
       "    </tr>\n",
       "    <tr>\n",
       "      <th>1</th>\n",
       "      <td>0.23</td>\n",
       "      <td>3.3</td>\n",
       "      <td>520</td>\n",
       "      <td>34.0</td>\n",
       "      <td>113.0</td>\n",
       "      <td>0.99429</td>\n",
       "      <td>8.16</td>\n",
       "      <td>0.48</td>\n",
       "      <td>8.4</td>\n",
       "      <td>7</td>\n",
       "      <td>melted</td>\n",
       "      <td>12.4</td>\n",
       "      <td>raisins</td>\n",
       "      <td>1.71</td>\n",
       "      <td>0</td>\n",
       "      <td>1</td>\n",
       "      <td>0</td>\n",
       "      <td>0</td>\n",
       "      <td>0</td>\n",
       "    </tr>\n",
       "    <tr>\n",
       "      <th>2</th>\n",
       "      <td>0.18</td>\n",
       "      <td>1.9</td>\n",
       "      <td>360</td>\n",
       "      <td>33.0</td>\n",
       "      <td>106.0</td>\n",
       "      <td>0.98746</td>\n",
       "      <td>8.21</td>\n",
       "      <td>0.83</td>\n",
       "      <td>14.0</td>\n",
       "      <td>9</td>\n",
       "      <td>melted</td>\n",
       "      <td>9.4</td>\n",
       "      <td>nuts, chocolate</td>\n",
       "      <td>1.78</td>\n",
       "      <td>1</td>\n",
       "      <td>0</td>\n",
       "      <td>0</td>\n",
       "      <td>1</td>\n",
       "      <td>0</td>\n",
       "    </tr>\n",
       "    <tr>\n",
       "      <th>3</th>\n",
       "      <td>0.18</td>\n",
       "      <td>10.5</td>\n",
       "      <td>490</td>\n",
       "      <td>41.0</td>\n",
       "      <td>124.0</td>\n",
       "      <td>0.99630</td>\n",
       "      <td>8.14</td>\n",
       "      <td>0.35</td>\n",
       "      <td>10.5</td>\n",
       "      <td>7</td>\n",
       "      <td>melted</td>\n",
       "      <td>12.2</td>\n",
       "      <td>chocolate</td>\n",
       "      <td>1.59</td>\n",
       "      <td>1</td>\n",
       "      <td>0</td>\n",
       "      <td>0</td>\n",
       "      <td>0</td>\n",
       "      <td>0</td>\n",
       "    </tr>\n",
       "    <tr>\n",
       "      <th>4</th>\n",
       "      <td>0.24</td>\n",
       "      <td>2.4</td>\n",
       "      <td>770</td>\n",
       "      <td>6.0</td>\n",
       "      <td>33.0</td>\n",
       "      <td>0.99740</td>\n",
       "      <td>8.09</td>\n",
       "      <td>0.57</td>\n",
       "      <td>9.4</td>\n",
       "      <td>5</td>\n",
       "      <td>cubed</td>\n",
       "      <td>19.8</td>\n",
       "      <td>nuts, oats, chocolate</td>\n",
       "      <td>1.30</td>\n",
       "      <td>1</td>\n",
       "      <td>0</td>\n",
       "      <td>1</td>\n",
       "      <td>1</td>\n",
       "      <td>0</td>\n",
       "    </tr>\n",
       "  </tbody>\n",
       "</table>\n",
       "</div>"
      ],
      "text/plain": [
       "   sugar to flour ratio  sugar index  bake temp  chill time  calories  \\\n",
       "0                  0.25          9.5        300        15.0     136.0   \n",
       "1                  0.23          3.3        520        34.0     113.0   \n",
       "2                  0.18          1.9        360        33.0     106.0   \n",
       "3                  0.18         10.5        490        41.0     124.0   \n",
       "4                  0.24          2.4        770         6.0      33.0   \n",
       "\n",
       "   density    pH  grams baking soda  bake time  quality butter type  weight  \\\n",
       "0  0.99367  8.10               0.44       12.1        8      melted    15.2   \n",
       "1  0.99429  8.16               0.48        8.4        7      melted    12.4   \n",
       "2  0.98746  8.21               0.83       14.0        9      melted     9.4   \n",
       "3  0.99630  8.14               0.35       10.5        7      melted    12.2   \n",
       "4  0.99740  8.09               0.57        9.4        5       cubed    19.8   \n",
       "\n",
       "                  mixins  crunch factor  chocolate  raisins  oats  nuts  \\\n",
       "0                raisins           1.30          0        1     0     0   \n",
       "1                raisins           1.71          0        1     0     0   \n",
       "2        nuts, chocolate           1.78          1        0     0     1   \n",
       "3              chocolate           1.59          1        0     0     0   \n",
       "4  nuts, oats, chocolate           1.30          1        0     1     1   \n",
       "\n",
       "   peanut butter  \n",
       "0              0  \n",
       "1              0  \n",
       "2              0  \n",
       "3              0  \n",
       "4              0  "
      ]
     },
     "execution_count": 35,
     "metadata": {},
     "output_type": "execute_result"
    }
   ],
   "source": [
    "df.head()"
   ]
  },
  {
   "cell_type": "code",
   "execution_count": 36,
   "metadata": {},
   "outputs": [],
   "source": [
    "df.drop(columns=[\"mixins\"], inplace=True)"
   ]
  },
  {
   "cell_type": "code",
   "execution_count": 37,
   "metadata": {},
   "outputs": [
    {
     "data": {
      "image/png": "[encoded data removed]",
      "text/plain": [
       "<Figure size 1152x432 with 2 Axes>"
      ]
     },
     "metadata": {},
     "output_type": "display_data"
    }
   ],
   "source": [
    "plt.figure(figsize=(16, 6))\n",
    "mask = np.triu(np.ones_like(df.corr(), dtype=np.bool))\n",
    "heatmap = sns.heatmap(df.corr(), mask=mask, vmin=-1, vmax=1, annot=True, cmap='BrBG')"
   ]
  },
  {
   "cell_type": "markdown",
   "metadata": {},
   "source": [
    "### pre processing- drop NANs and deal with non numerical data\n"
   ]
  },
  {
   "cell_type": "code",
   "execution_count": 38,
   "metadata": {},
   "outputs": [
    {
     "data": {
      "text/plain": [
       "sugar to flour ratio    float64\n",
       "sugar index             float64\n",
       "bake temp                 int64\n",
       "chill time              float64\n",
       "calories                float64\n",
       "density                 float64\n",
       "pH                      float64\n",
       "grams baking soda       float64\n",
       "bake time               float64\n",
       "quality                   int64\n",
       "butter type              object\n",
       "weight                  float64\n",
       "crunch factor           float64\n",
       "chocolate                 int64\n",
       "raisins                   int64\n",
       "oats                      int64\n",
       "nuts                      int64\n",
       "peanut butter             int64\n",
       "dtype: object"
      ]
     },
     "execution_count": 38,
     "metadata": {},
     "output_type": "execute_result"
    }
   ],
   "source": [
    "df.dtypes"
   ]
  },
  {
   "cell_type": "code",
   "execution_count": 39,
   "metadata": {},
   "outputs": [],
   "source": [
    "df=pd.get_dummies(df, columns=['butter type'])"
   ]
  },
  {
   "cell_type": "code",
   "execution_count": 40,
   "metadata": {},
   "outputs": [
    {
     "name": "stdout",
     "output_type": "stream",
     "text": [
      "<class 'pandas.core.frame.DataFrame'>\n",
      "RangeIndex: 5180 entries, 0 to 5179\n",
      "Data columns (total 19 columns):\n",
      " #   Column                Non-Null Count  Dtype  \n",
      "---  ------                --------------  -----  \n",
      " 0   sugar to flour ratio  5180 non-null   float64\n",
      " 1   sugar index           5180 non-null   float64\n",
      " 2   bake temp             5180 non-null   int64  \n",
      " 3   chill time            5180 non-null   float64\n",
      " 4   calories              5180 non-null   float64\n",
      " 5   density               5180 non-null   float64\n",
      " 6   pH                    5180 non-null   float64\n",
      " 7   grams baking soda     5180 non-null   float64\n",
      " 8   bake time             5180 non-null   float64\n",
      " 9   quality               5180 non-null   int64  \n",
      " 10  weight                5180 non-null   float64\n",
      " 11  crunch factor         5180 non-null   float64\n",
      " 12  chocolate             5180 non-null   int64  \n",
      " 13  raisins               5180 non-null   int64  \n",
      " 14  oats                  5180 non-null   int64  \n",
      " 15  nuts                  5180 non-null   int64  \n",
      " 16  peanut butter         5180 non-null   int64  \n",
      " 17  butter type_cubed     5180 non-null   uint8  \n",
      " 18  butter type_melted    5180 non-null   uint8  \n",
      "dtypes: float64(10), int64(7), uint8(2)\n",
      "memory usage: 698.2 KB\n"
     ]
    }
   ],
   "source": [
    "df.info()"
   ]
  },
  {
   "cell_type": "code",
   "execution_count": 41,
   "metadata": {},
   "outputs": [],
   "source": [
    "df = df.dropna()"
   ]
  },
  {
   "cell_type": "code",
   "execution_count": 42,
   "metadata": {},
   "outputs": [],
   "source": [
    "df.reset_index(drop=True, inplace=True)"
   ]
  },
  {
   "cell_type": "markdown",
   "metadata": {},
   "source": [
    "### Split data into dependent and independent variables "
   ]
  },
  {
   "cell_type": "code",
   "execution_count": 43,
   "metadata": {},
   "outputs": [],
   "source": [
    "X= df.drop(columns=\"quality\")\n",
    "y=df.quality"
   ]
  },
  {
   "cell_type": "markdown",
   "metadata": {},
   "source": [
    "### Preprocessing - scaling "
   ]
  },
  {
   "cell_type": "code",
   "execution_count": 44,
   "metadata": {},
   "outputs": [],
   "source": [
    "from sklearn.preprocessing import StandardScaler\n",
    "\n",
    "scaler = StandardScaler()\n",
    "\n",
    "X_scaled = scaler.fit_transform(X)"
   ]
  },
  {
   "cell_type": "markdown",
   "metadata": {},
   "source": [
    "### Train test split"
   ]
  },
  {
   "cell_type": "code",
   "execution_count": 45,
   "metadata": {},
   "outputs": [],
   "source": [
    "from sklearn.model_selection import train_test_split\n",
    "\n",
    "X_train, X_test, y_train, y_test = train_test_split( X_scaled, y, test_size=0.2, random_state=42)"
   ]
  },
  {
   "cell_type": "markdown",
   "metadata": {},
   "source": [
    "### get model, fit, make predictions  AND evaluate"
   ]
  },
  {
   "cell_type": "code",
   "execution_count": 46,
   "metadata": {},
   "outputs": [],
   "source": [
    "from sklearn import linear_model\n",
    "from sklearn.metrics import r2_score, mean_absolute_error, mean_squared_error"
   ]
  },
  {
   "cell_type": "code",
   "execution_count": 47,
   "metadata": {},
   "outputs": [],
   "source": [
    "lm = linear_model.LinearRegression()\n",
    "model = lm.fit(X_train,y_train)"
   ]
  },
  {
   "cell_type": "code",
   "execution_count": 48,
   "metadata": {},
   "outputs": [],
   "source": [
    "y_preds  = lm.predict(X_test)"
   ]
  },
  {
   "cell_type": "code",
   "execution_count": 49,
   "metadata": {},
   "outputs": [
    {
     "data": {
      "text/plain": [
       "array([7.65969961, 7.8259348 , 8.62206137, ..., 8.40211089, 7.25687154,\n",
       "       8.24797636])"
      ]
     },
     "execution_count": 49,
     "metadata": {},
     "output_type": "execute_result"
    }
   ],
   "source": [
    "y_preds"
   ]
  },
  {
   "cell_type": "code",
   "execution_count": 50,
   "metadata": {},
   "outputs": [
    {
     "name": "stdout",
     "output_type": "stream",
     "text": [
      "Regression metrics on the test set\n",
      "R2 score: 0.6459088610170114\n",
      "MAE: 0.5793099824260387\n",
      "MSE: 0.5671717937051136\n"
     ]
    }
   ],
   "source": [
    "print(\"Regression metrics on the test set\")\n",
    "print(f\"R2 score: {r2_score(y_test, y_preds)}\")\n",
    "print(f\"MAE: {mean_absolute_error(y_test, y_preds)}\")\n",
    "print(f\"MSE: {mean_squared_error(y_test, y_preds)}\")"
   ]
  },
  {
   "cell_type": "code",
   "execution_count": 51,
   "metadata": {},
   "outputs": [
    {
     "name": "stdout",
     "output_type": "stream",
     "text": [
      "0.7531080889919545\n"
     ]
    }
   ],
   "source": [
    "import math \n",
    "rmse = math.sqrt(mean_squared_error(y_test, y_preds))\n",
    "print(rmse)"
   ]
  },
  {
   "cell_type": "markdown",
   "metadata": {},
   "source": [
    "### Make predictions on the cookies_validate dataset (without labels)"
   ]
  },
  {
   "cell_type": "code",
   "execution_count": 52,
   "metadata": {},
   "outputs": [],
   "source": [
    "cookies_val = pd.read_csv('cookies_validate.csv')"
   ]
  },
  {
   "cell_type": "code",
   "execution_count": 53,
   "metadata": {},
   "outputs": [
    {
     "name": "stdout",
     "output_type": "stream",
     "text": [
      "<class 'pandas.core.frame.DataFrame'>\n",
      "RangeIndex: 779 entries, 0 to 778\n",
      "Data columns (total 17 columns):\n",
      " #   Column                Non-Null Count  Dtype  \n",
      "---  ------                --------------  -----  \n",
      " 0   id                    779 non-null    int64  \n",
      " 1   sugar to flour ratio  779 non-null    float64\n",
      " 2   sugar index           779 non-null    float64\n",
      " 3   bake temp             779 non-null    float64\n",
      " 4   chill time            779 non-null    float64\n",
      " 5   calories              779 non-null    float64\n",
      " 6   density               779 non-null    float64\n",
      " 7   pH                    779 non-null    float64\n",
      " 8   grams baking soda     779 non-null    float64\n",
      " 9   bake time             779 non-null    float64\n",
      " 10  quality               779 non-null    int64  \n",
      " 11  butter type           779 non-null    object \n",
      " 12  weight                779 non-null    float64\n",
      " 13  diameter              779 non-null    int64  \n",
      " 14  mixins                779 non-null    object \n",
      " 15  crunch factor         779 non-null    float64\n",
      " 16  aesthetic appeal      779 non-null    int64  \n",
      "dtypes: float64(11), int64(4), object(2)\n",
      "memory usage: 103.6+ KB\n"
     ]
    }
   ],
   "source": [
    "cookies_val.info()"
   ]
  },
  {
   "cell_type": "code",
   "execution_count": 54,
   "metadata": {},
   "outputs": [],
   "source": [
    "cookies_val.drop(columns=[\"aesthetic appeal\", \"diameter\"], inplace=True)"
   ]
  },
  {
   "cell_type": "code",
   "execution_count": 55,
   "metadata": {},
   "outputs": [],
   "source": [
    "cookies_val['chocolate'] = 0\n",
    "cookies_val['raisins'] = 0\n",
    "cookies_val['oats'] = 0\n",
    "cookies_val['nuts'] = 0\n",
    "cookies_val['peanut butter'] = 0"
   ]
  },
  {
   "cell_type": "code",
   "execution_count": 56,
   "metadata": {},
   "outputs": [],
   "source": [
    "mixins = ['chocolate', 'raisins', 'oats', 'nuts', 'peanut butter']\n",
    "for mix in mixins:\n",
    "    for i in range(len(cookies_val)):\n",
    "        if mix in [x.strip() for x in cookies_val.loc[i, 'mixins'].split(',')]:\n",
    "            cookies_val.loc[i, mix] = 1\n",
    "            \n",
    "cookies_val.drop(columns=[\"mixins\"], inplace=True)"
   ]
  },
  {
   "cell_type": "code",
   "execution_count": 57,
   "metadata": {},
   "outputs": [],
   "source": [
    "cookies_val.drop(columns= 'id', inplace=True)"
   ]
  },
  {
   "cell_type": "code",
   "execution_count": 58,
   "metadata": {},
   "outputs": [],
   "source": [
    "cookies_val=pd.get_dummies(cookies_val, columns=['butter type'])"
   ]
  },
  {
   "cell_type": "code",
   "execution_count": 59,
   "metadata": {},
   "outputs": [
    {
     "name": "stdout",
     "output_type": "stream",
     "text": [
      "<class 'pandas.core.frame.DataFrame'>\n",
      "RangeIndex: 779 entries, 0 to 778\n",
      "Data columns (total 19 columns):\n",
      " #   Column                Non-Null Count  Dtype  \n",
      "---  ------                --------------  -----  \n",
      " 0   sugar to flour ratio  779 non-null    float64\n",
      " 1   sugar index           779 non-null    float64\n",
      " 2   bake temp             779 non-null    float64\n",
      " 3   chill time            779 non-null    float64\n",
      " 4   calories              779 non-null    float64\n",
      " 5   density               779 non-null    float64\n",
      " 6   pH                    779 non-null    float64\n",
      " 7   grams baking soda     779 non-null    float64\n",
      " 8   bake time             779 non-null    float64\n",
      " 9   quality               779 non-null    int64  \n",
      " 10  weight                779 non-null    float64\n",
      " 11  crunch factor         779 non-null    float64\n",
      " 12  chocolate             779 non-null    int64  \n",
      " 13  raisins               779 non-null    int64  \n",
      " 14  oats                  779 non-null    int64  \n",
      " 15  nuts                  779 non-null    int64  \n",
      " 16  peanut butter         779 non-null    int64  \n",
      " 17  butter type_cubed     779 non-null    uint8  \n",
      " 18  butter type_melted    779 non-null    uint8  \n",
      "dtypes: float64(11), int64(6), uint8(2)\n",
      "memory usage: 105.1 KB\n"
     ]
    }
   ],
   "source": [
    "cookies_val.info()"
   ]
  },
  {
   "cell_type": "code",
   "execution_count": 60,
   "metadata": {},
   "outputs": [],
   "source": [
    "X_val = cookies_val.drop(columns=\"quality\")"
   ]
  },
  {
   "cell_type": "code",
   "execution_count": 61,
   "metadata": {},
   "outputs": [],
   "source": [
    "X_val_scaled = scaler.fit_transform(X_val)"
   ]
  },
  {
   "cell_type": "code",
   "execution_count": 62,
   "metadata": {},
   "outputs": [],
   "source": [
    "predictions_val=lm.predict(X_val_scaled)"
   ]
  },
  {
   "cell_type": "code",
   "execution_count": 63,
   "metadata": {},
   "outputs": [
    {
     "data": {
      "text/plain": [
       "array([7.43885435, 7.30108916, 7.48270369, 7.72805336, 7.21322009,\n",
       "       7.16886471, 7.48773541, 7.1020191 , 7.6958118 , 7.31080057,\n",
       "       7.43227785, 7.35207921, 7.43668696, 7.63653052, 7.90855287,\n",
       "       7.15554324, 7.52454925, 7.11609296, 8.24474655, 7.94038494,\n",
       "       7.58220735, 7.59462093, 8.01607044, 7.67754199, 6.91365691,\n",
       "       6.92629886, 7.00932552, 7.44558261, 6.90729643, 7.26217203,\n",
       "       7.61470847, 7.87444939, 7.40798202, 7.47065509, 7.7673556 ,\n",
       "       7.85357639, 7.85451948, 7.72330105, 7.10674719, 7.42260892,\n",
       "       7.92535039, 7.63400813, 7.47884382, 7.12448341, 7.43507406,\n",
       "       7.31164432, 7.15769059, 7.85656201, 7.53400111, 7.13792951,\n",
       "       7.08954906, 7.0455251 , 7.36037947, 7.16171812, 7.03262152,\n",
       "       7.94132952, 7.2797965 , 7.33653172, 7.91261179, 8.02196683,\n",
       "       7.13990734, 7.47850239, 6.76963427, 7.59766756, 7.48506265,\n",
       "       7.34006705, 7.45289422, 7.27643177, 7.01327433, 8.17394541,\n",
       "       7.86881966, 8.18730698, 7.13883727, 6.83825656, 7.734141  ,\n",
       "       7.7925347 , 7.59329865, 7.46016446, 7.02875376, 7.58841974,\n",
       "       7.26267483, 7.86689037, 7.40716056, 7.14753231, 7.64581223,\n",
       "       7.88788017, 7.88599917, 7.5202589 , 7.55807984, 8.08035802,\n",
       "       7.74230236, 6.85165822, 7.6020552 , 7.28445625, 7.46464678,\n",
       "       7.39076055, 7.41416707, 7.93853815, 7.40604211, 6.99703247,\n",
       "       7.89436908, 7.49945454, 8.0219181 , 8.10590275, 7.87150391,\n",
       "       7.46679383, 7.09226354, 7.03983741, 7.35934536, 7.95535227,\n",
       "       7.48881482, 6.85130586, 7.1760534 , 7.25398779, 7.53523644,\n",
       "       7.23592944, 7.44001381, 7.45059444, 8.21623456, 7.10153776,\n",
       "       7.62784211, 7.4329806 , 7.3662018 , 7.63922782, 7.61355524,\n",
       "       7.43536887, 6.92305618, 7.50850789, 6.64947228, 7.60003092,\n",
       "       6.35746119, 7.89616334, 7.44544465, 7.38683295, 7.01556991,\n",
       "       7.92588393, 7.17839856, 7.15858818, 7.39997545, 7.39127582,\n",
       "       7.55363507, 7.54046806, 7.4484197 , 7.2905884 , 7.11697579,\n",
       "       7.05677294, 7.21150426, 8.11348584, 7.60977501, 7.78763321,\n",
       "       6.76846664, 7.4941209 , 7.47778264, 7.20928405, 7.25452988,\n",
       "       7.26183449, 7.47820339, 7.2368707 , 7.93964504, 8.14970781,\n",
       "       7.99456282, 7.49357141, 7.35649764, 8.18862891, 7.4624367 ,\n",
       "       7.5098342 , 7.50095248, 7.54795148, 7.48074574, 8.27551239,\n",
       "       7.26055196, 7.66975428, 7.15910492, 7.32251468, 7.86599485,\n",
       "       8.01203625, 7.70776915, 7.45562448, 7.50454536, 7.9616431 ,\n",
       "       7.1167989 , 6.94546833, 6.83232925, 7.1307112 , 7.27754818,\n",
       "       7.04508191, 7.48890195, 7.07816134, 7.09221993, 7.67473053,\n",
       "       6.63815541, 7.17182923, 7.66725696, 6.41479371, 7.61790762,\n",
       "       7.64930697, 7.48495161, 7.49529711, 8.08136593, 7.74975784,\n",
       "       7.50288623, 8.02341127, 8.05702573, 6.49384866, 7.99967764,\n",
       "       7.27766326, 7.23662309, 7.26033419, 7.45163647, 7.68500447,\n",
       "       7.38408316, 6.69986123, 7.60599735, 7.25050068, 7.11013551,\n",
       "       7.53381698, 7.5374484 , 7.64690851, 7.33967942, 6.73265703,\n",
       "       6.71784415, 7.29462671, 7.28732076, 7.25578219, 7.11926723,\n",
       "       7.1942759 , 7.47817928, 6.87795752, 7.57203092, 7.64687679,\n",
       "       7.59268772, 7.09597397, 7.21977573, 7.30505751, 7.22947436,\n",
       "       8.07530544, 8.05165954, 6.98225129, 8.08879254, 7.56338643,\n",
       "       7.27421976, 7.71297126, 7.28863056, 7.02299511, 7.36454116,\n",
       "       7.00620523, 7.36629864, 7.64139174, 7.48033097, 7.43431559,\n",
       "       7.61426671, 7.15452752, 6.82042179, 7.74720676, 7.47320311,\n",
       "       8.11595011, 7.25407862, 7.11295277, 7.45931457, 7.91064365,\n",
       "       8.4466683 , 6.77474621, 6.98136774, 8.40832352, 7.4564286 ,\n",
       "       7.07626561, 7.30710801, 7.54323221, 7.4821617 , 7.85275012,\n",
       "       8.02203315, 7.90198679, 7.56502287, 6.77625258, 8.09052857,\n",
       "       7.36358001, 7.67900051, 8.64759556, 8.32428019, 7.86463915,\n",
       "       7.24518328, 7.55161249, 6.93054529, 7.62798223, 7.82799896,\n",
       "       7.83292469, 9.15963157, 7.28374237, 8.51829128, 7.12597277,\n",
       "       8.13066601, 7.63054806, 7.44510462, 7.41657497, 7.35286671,\n",
       "       8.03787648, 8.08735877, 7.47828976, 7.02944232, 7.88680556,\n",
       "       7.35742625, 7.73460575, 7.37448391, 6.54187038, 7.89585605,\n",
       "       7.75048818, 8.25739929, 8.25006537, 7.91799065, 7.99756028,\n",
       "       8.55689705, 7.78144313, 8.2542057 , 7.41050933, 8.0911003 ,\n",
       "       6.87899915, 7.78127384, 7.02859974, 7.92247578, 8.20190775,\n",
       "       7.09107782, 7.97727043, 7.9713923 , 7.86826644, 7.80112055,\n",
       "       7.59609345, 8.49216394, 7.61816967, 7.63485581, 8.19439832,\n",
       "       6.97071561, 8.04975009, 7.70814892, 8.20228736, 7.97190328,\n",
       "       7.66681285, 7.82091499, 7.8895621 , 8.24996658, 7.77337968,\n",
       "       7.93039135, 7.55007472, 7.57356494, 7.89967983, 7.90203108,\n",
       "       7.42062048, 7.99951788, 7.1355866 , 7.52188722, 6.95377922,\n",
       "       7.8599183 , 7.84364969, 7.80276118, 8.19710422, 8.08911586,\n",
       "       7.85799232, 7.70790931, 7.41798316, 7.92584363, 8.22410855,\n",
       "       7.814828  , 8.07263735, 7.54673947, 7.81183552, 8.07804523,\n",
       "       7.66956785, 7.30539003, 7.6008979 , 8.20692362, 7.60672401,\n",
       "       8.03683622, 8.01503183, 7.96037311, 7.78571823, 7.00681597,\n",
       "       8.68329952, 7.32013577, 8.05468969, 8.29811179, 8.07356191,\n",
       "       7.98835279, 7.94076852, 7.32285157, 7.67643769, 8.02250455,\n",
       "       7.8318624 , 7.40035078, 8.22902976, 7.997499  , 7.23640077,\n",
       "       7.74296083, 7.38248351, 7.36437888, 8.48179505, 8.1726046 ,\n",
       "       7.79682215, 6.94466253, 7.08716847, 7.3908266 , 8.0809544 ,\n",
       "       7.9328449 , 7.69369686, 8.06391528, 8.08870172, 8.16000185,\n",
       "       8.18009357, 7.33529307, 7.8757966 , 8.29818482, 7.94059597,\n",
       "       8.10060372, 7.93645085, 7.31628519, 7.77322314, 7.32686582,\n",
       "       7.26765717, 8.15392409, 7.15313901, 8.06460477, 8.43041106,\n",
       "       8.06971618, 7.85908748, 8.5767364 , 7.73955648, 8.49350971,\n",
       "       7.04776094, 8.47655142, 7.3166307 , 6.99620379, 7.76463986,\n",
       "       8.44436085, 7.85033647, 7.57062354, 7.91076878, 8.21470599,\n",
       "       7.26752159, 8.09141393, 7.53705057, 8.3934009 , 7.64923349,\n",
       "       7.92246148, 8.56033637, 7.88024142, 7.88682492, 7.44768491,\n",
       "       8.16059934, 8.24568508, 7.24559947, 8.1968962 , 8.34025015,\n",
       "       7.6617215 , 7.46549716, 7.41916064, 7.82170119, 7.95852529,\n",
       "       7.79896252, 7.96064141, 7.81436229, 7.64824539, 7.64354289,\n",
       "       7.6767529 , 8.26553603, 8.31241352, 7.76514728, 8.00257091,\n",
       "       7.68263877, 8.21019789, 7.68499002, 7.77595547, 6.96674781,\n",
       "       8.49925739, 7.95534215, 7.98700514, 7.7741928 , 7.12871012,\n",
       "       7.57098111, 8.15537865, 6.91417585, 7.9587309 , 8.19074717,\n",
       "       7.80319551, 8.13917047, 7.09590467, 7.08051821, 7.21227619,\n",
       "       7.75937451, 7.85841516, 7.23982199, 7.23688103, 7.99380195,\n",
       "       7.32591735, 7.99938899, 7.8397759 , 8.35325702, 7.7335293 ,\n",
       "       8.0972563 , 8.15061272, 7.76818254, 7.33859486, 7.2850062 ,\n",
       "       7.62654624, 6.95893093, 7.55052168, 7.58857797, 7.97107981,\n",
       "       7.17453489, 7.41003696, 8.30239654, 8.6334972 , 8.2903856 ,\n",
       "       7.65813346, 8.47994103, 7.60388478, 7.21418193, 8.05753569,\n",
       "       7.37912782, 7.80745536, 7.69554574, 7.59714419, 7.74364653,\n",
       "       7.63660716, 7.92624049, 8.32191739, 7.65044209, 8.61906226,\n",
       "       8.40780509, 8.56524899, 8.20670763, 7.56752094, 8.14263148,\n",
       "       6.71797706, 7.11195121, 8.07467915, 7.65108784, 7.64121258,\n",
       "       7.86598483, 8.07765396, 7.63484987, 7.5995402 , 7.64354949,\n",
       "       7.95037107, 8.22292864, 7.74667297, 7.92228337, 7.41609739,\n",
       "       7.04522406, 7.04310793, 7.47740034, 8.0240657 , 7.32816601,\n",
       "       7.4525359 , 7.46199493, 7.70014233, 7.72332245, 7.78522798,\n",
       "       6.61493834, 7.48885357, 7.75065298, 7.35485331, 7.63497945,\n",
       "       8.30056702, 8.06365968, 7.47573143, 7.3295981 , 7.49831335,\n",
       "       6.94576475, 6.89200143, 6.90563869, 7.77973936, 7.3593555 ,\n",
       "       7.37604938, 7.12175343, 7.10505955, 7.71964866, 7.7311786 ,\n",
       "       7.92031919, 7.4352489 , 7.30870703, 7.31141952, 8.04371241,\n",
       "       7.06885394, 7.45065207, 8.33988529, 8.07319452, 7.74391267,\n",
       "       8.46522163, 8.04360813, 7.32721848, 7.87154904, 7.42338343,\n",
       "       7.67501963, 7.54013153, 7.67172788, 8.14870011, 7.65579664,\n",
       "       6.9684289 , 7.68016258, 7.81364925, 7.81867636, 8.24123025,\n",
       "       8.11684176, 8.05402815, 7.89797787, 7.21492383, 7.56014036,\n",
       "       7.79438756, 7.25759734, 7.10066036, 7.1494266 , 7.7348136 ,\n",
       "       7.71856187, 7.66525719, 7.83526669, 8.0112361 , 7.67192946,\n",
       "       7.36492852, 7.58364429, 7.59446004, 7.49035373, 7.30311132,\n",
       "       7.29981957, 7.45230693, 7.60793137, 8.30205862, 6.80355996,\n",
       "       7.84955901, 7.12582134, 7.13475609, 7.30007882, 7.82410437,\n",
       "       8.03394793, 8.31544587, 7.10526949, 6.53034469, 8.19641338,\n",
       "       7.09108035, 8.14103269, 6.46227724, 7.97725654, 7.78478141,\n",
       "       7.93322492, 7.54461484, 8.49729474, 7.78343555, 7.748261  ,\n",
       "       8.27682477, 8.05234492, 7.83069724, 7.96228505, 7.94329527,\n",
       "       8.15533154, 7.28573256, 8.11747401, 7.98406376, 8.16071176,\n",
       "       8.196852  , 7.20940605, 8.16847203, 8.47215862, 7.72823509,\n",
       "       7.73826741, 7.43627258, 7.72452574, 7.62594759, 7.12406082,\n",
       "       7.12805795, 7.1616405 , 7.84913696, 7.76454704, 7.62007446,\n",
       "       8.12127278, 7.58175241, 7.81903448, 7.69015564, 8.56875043,\n",
       "       8.33125131, 8.27090613, 8.4961908 , 7.62890472, 8.25137742,\n",
       "       7.17673338, 7.95417467, 7.84666281, 7.43275175, 8.29752795,\n",
       "       7.83694599, 8.00606547, 6.97234292, 7.58723098, 7.38728773,\n",
       "       7.39598736, 7.74268586, 7.86026107, 7.27428941, 8.04801968,\n",
       "       8.02763264, 7.478816  , 8.18533774, 7.92558808, 6.36330566,\n",
       "       7.36289164, 7.56039061, 7.36196472, 8.6985881 , 7.81961428,\n",
       "       8.22428554, 3.89589272, 3.92750852, 4.09733996, 3.83634777,\n",
       "       4.24548271, 4.03172792, 3.82991636, 3.6386909 , 4.39424486,\n",
       "       4.34721264, 4.31287185, 4.31240508, 4.76415461, 4.03459778,\n",
       "       3.69478914, 4.54809881, 5.01477353, 4.75490019, 3.72704006,\n",
       "       4.35260697, 4.60822661, 4.38560728, 4.44018816, 3.73360694,\n",
       "       4.52818965, 4.84559473, 5.04913554, 4.06023253, 4.70296308,\n",
       "       4.2931066 , 4.51733213, 3.88927937, 4.6386549 , 3.80887338,\n",
       "       4.06049373, 3.77576291, 5.0666514 , 4.93967972, 4.55405713,\n",
       "       4.24867078, 4.00073526, 5.1168094 , 4.28653689, 4.98765686,\n",
       "       5.32396747, 4.239576  , 5.11963462, 4.83523008, 3.72344414,\n",
       "       5.08609581, 3.98516675, 4.63185007, 3.78432298, 4.59099064,\n",
       "       5.39087261, 4.66953942, 4.92618307, 4.62714186, 3.9840806 ,\n",
       "       4.11079755, 4.53180578, 4.35821842, 4.07054332, 3.75839743,\n",
       "       5.20593448, 4.36644259, 3.79275816, 4.02273981, 4.2656412 ,\n",
       "       3.68432174, 4.01288973, 3.86635321, 3.73466179])"
      ]
     },
     "execution_count": 63,
     "metadata": {},
     "output_type": "execute_result"
    }
   ],
   "source": [
    "predictions_val"
   ]
  },
  {
   "cell_type": "markdown",
   "metadata": {},
   "source": [
    "### assess predictions against the test data (with labels)"
   ]
  },
  {
   "cell_type": "code",
   "execution_count": 64,
   "metadata": {},
   "outputs": [],
   "source": [
    "cookies_test = pd.read_csv('cookies_test.csv')"
   ]
  },
  {
   "cell_type": "code",
   "execution_count": 65,
   "metadata": {},
   "outputs": [],
   "source": [
    "y_real = cookies_test[\"quality\"]"
   ]
  },
  {
   "cell_type": "code",
   "execution_count": 66,
   "metadata": {},
   "outputs": [
    {
     "data": {
      "text/plain": [
       "count    779.000000\n",
       "mean       7.661104\n",
       "std        1.093643\n",
       "min        4.000000\n",
       "25%        7.000000\n",
       "50%        8.000000\n",
       "75%        8.000000\n",
       "max       10.000000\n",
       "Name: quality, dtype: float64"
      ]
     },
     "execution_count": 66,
     "metadata": {},
     "output_type": "execute_result"
    }
   ],
   "source": [
    "y_real.describe()"
   ]
  },
  {
   "cell_type": "code",
   "execution_count": 67,
   "metadata": {},
   "outputs": [
    {
     "data": {
      "text/plain": [
       "0.9064093186979284"
      ]
     },
     "execution_count": 67,
     "metadata": {},
     "output_type": "execute_result"
    }
   ],
   "source": [
    "mean_squared_error(y_real, predictions_val, squared = False)"
   ]
  },
  {
   "cell_type": "markdown",
   "metadata": {},
   "source": [
    "### Can we get more accuracy with an ensemble method?"
   ]
  },
  {
   "cell_type": "markdown",
   "metadata": {},
   "source": [
    "#### Task 4 : Add a random forest regressor model to try to get a more accurate score. \n",
    "\n",
    "You can follow https://www.geeksforgeeks.org/random-forest-regression-in-python/\n",
    "or the sklearn_documentation https://scikit-learn.org/stable/search.html?q=random+forest\n",
    "to import the regressor and fit it to your data, before running the cells below which will calculate your new RMSE accuracy score"
   ]
  },
  {
   "cell_type": "markdown",
   "metadata": {},
   "source": [
    "\n",
    "### <span style=\"color:#306998\">Random Forest</span>\n",
    "<span style=\"color:#306998\">\n",
    "A random forest is an ensemble machine learning technique — a random forest contains many decision trees that all work together to classify new points. When a random forest is asked to classify a new point, the random forest gives that point to each of the decision trees. Each of those trees reports their classification and the random forest returns the most popular classification. It’s like every tree gets a vote, and the most popular classification wins.<br>\n",
    "Some of the trees in the random forest may be overfit, but by making the prediction based on a large number of trees, overfitting will have less of an impact.\n",
    "</span>  "
   ]
  },
  {
   "cell_type": "code",
   "execution_count": 68,
   "metadata": {},
   "outputs": [],
   "source": [
    "#Task 4 your code: \n",
    "# Fitting Random Forest Regression to the dataset\n",
    "# import the regressor\n",
    "from sklearn.ensemble import RandomForestRegressor\n",
    "# Setup random seed\n",
    "np.random.seed(42)\n",
    "\n",
    "# Create the data\n",
    "X= df.drop(columns=\"quality\")\n",
    "y=df.quality\n",
    "\n",
    "# Split the data\n",
    "X_train, X_test, y_train, y_test = train_test_split( X, y, test_size=0.2)\n",
    "\n",
    "# Instatiate Random Forest Regressor\n",
    "# create regressor object\n",
    "regressor = RandomForestRegressor(n_estimators=100)"
   ]
  },
  {
   "cell_type": "code",
   "execution_count": 69,
   "metadata": {},
   "outputs": [
    {
     "data": {
      "text/plain": [
       "RandomForestRegressor()"
      ]
     },
     "execution_count": 69,
     "metadata": {},
     "output_type": "execute_result"
    }
   ],
   "source": [
    "# fit the regressor with X_train and y_train data\n",
    "regressor.fit(X_train, y_train) "
   ]
  },
  {
   "cell_type": "code",
   "execution_count": 70,
   "metadata": {},
   "outputs": [],
   "source": [
    "predictions_new = regressor.predict(X_test)"
   ]
  },
  {
   "cell_type": "code",
   "execution_count": 71,
   "metadata": {},
   "outputs": [
    {
     "data": {
      "text/plain": [
       "0.7400163799877966"
      ]
     },
     "execution_count": 71,
     "metadata": {},
     "output_type": "execute_result"
    }
   ],
   "source": [
    "# Evaluate de Random Forest Regressor,\n",
    "# The default score() evaluation metric is r_squared for regression algorithms\n",
    "# Highest = 1.0, lowest = 0.0\n",
    "\n",
    "regressor.score(X_test, y_test)"
   ]
  },
  {
   "cell_type": "code",
   "execution_count": 72,
   "metadata": {},
   "outputs": [
    {
     "name": "stdout",
     "output_type": "stream",
     "text": [
      "Regression metrics on the test set\n",
      "R2 score: 0.7400163799877966\n",
      "MAE: 0.47749034749034747\n",
      "MSE: 0.4164333976833977\n"
     ]
    }
   ],
   "source": [
    "print(\"Regression metrics on the test set\")\n",
    "print(f\"R2 score: {r2_score(y_test, predictions_new)}\")\n",
    "print(f\"MAE: {mean_absolute_error(y_test, predictions_new)}\")\n",
    "print(f\"MSE: {mean_squared_error(y_test, predictions_new)}\")"
   ]
  },
  {
   "cell_type": "code",
   "execution_count": 77,
   "metadata": {},
   "outputs": [
    {
     "data": {
      "text/html": [
       "<div>\n",
       "<style scoped>\n",
       "    .dataframe tbody tr th:only-of-type {\n",
       "        vertical-align: middle;\n",
       "    }\n",
       "\n",
       "    .dataframe tbody tr th {\n",
       "        vertical-align: top;\n",
       "    }\n",
       "\n",
       "    .dataframe thead th {\n",
       "        text-align: right;\n",
       "    }\n",
       "</style>\n",
       "<table border=\"1\" class=\"dataframe\">\n",
       "  <thead>\n",
       "    <tr style=\"text-align: right;\">\n",
       "      <th></th>\n",
       "      <th>actual values</th>\n",
       "      <th>predicted values</th>\n",
       "      <th>differences</th>\n",
       "    </tr>\n",
       "  </thead>\n",
       "  <tbody>\n",
       "    <tr>\n",
       "      <th>584</th>\n",
       "      <td>7</td>\n",
       "      <td>7.659700</td>\n",
       "      <td>0.659700</td>\n",
       "    </tr>\n",
       "    <tr>\n",
       "      <th>1215</th>\n",
       "      <td>7</td>\n",
       "      <td>7.825935</td>\n",
       "      <td>0.825935</td>\n",
       "    </tr>\n",
       "    <tr>\n",
       "      <th>877</th>\n",
       "      <td>9</td>\n",
       "      <td>8.622061</td>\n",
       "      <td>-0.377939</td>\n",
       "    </tr>\n",
       "    <tr>\n",
       "      <th>4230</th>\n",
       "      <td>9</td>\n",
       "      <td>9.087919</td>\n",
       "      <td>0.087919</td>\n",
       "    </tr>\n",
       "    <tr>\n",
       "      <th>4159</th>\n",
       "      <td>5</td>\n",
       "      <td>5.790874</td>\n",
       "      <td>0.790874</td>\n",
       "    </tr>\n",
       "    <tr>\n",
       "      <th>4546</th>\n",
       "      <td>9</td>\n",
       "      <td>8.088504</td>\n",
       "      <td>-0.911496</td>\n",
       "    </tr>\n",
       "    <tr>\n",
       "      <th>2787</th>\n",
       "      <td>4</td>\n",
       "      <td>5.595311</td>\n",
       "      <td>1.595311</td>\n",
       "    </tr>\n",
       "    <tr>\n",
       "      <th>1744</th>\n",
       "      <td>5</td>\n",
       "      <td>5.003610</td>\n",
       "      <td>0.003610</td>\n",
       "    </tr>\n",
       "    <tr>\n",
       "      <th>4481</th>\n",
       "      <td>7</td>\n",
       "      <td>7.434537</td>\n",
       "      <td>0.434537</td>\n",
       "    </tr>\n",
       "    <tr>\n",
       "      <th>3801</th>\n",
       "      <td>8</td>\n",
       "      <td>7.712981</td>\n",
       "      <td>-0.287019</td>\n",
       "    </tr>\n",
       "    <tr>\n",
       "      <th>4666</th>\n",
       "      <td>8</td>\n",
       "      <td>7.403510</td>\n",
       "      <td>-0.596490</td>\n",
       "    </tr>\n",
       "    <tr>\n",
       "      <th>2373</th>\n",
       "      <td>8</td>\n",
       "      <td>8.141288</td>\n",
       "      <td>0.141288</td>\n",
       "    </tr>\n",
       "    <tr>\n",
       "      <th>5007</th>\n",
       "      <td>6</td>\n",
       "      <td>6.203016</td>\n",
       "      <td>0.203016</td>\n",
       "    </tr>\n",
       "    <tr>\n",
       "      <th>4847</th>\n",
       "      <td>8</td>\n",
       "      <td>8.066261</td>\n",
       "      <td>0.066261</td>\n",
       "    </tr>\n",
       "    <tr>\n",
       "      <th>4536</th>\n",
       "      <td>5</td>\n",
       "      <td>5.049320</td>\n",
       "      <td>0.049320</td>\n",
       "    </tr>\n",
       "    <tr>\n",
       "      <th>4525</th>\n",
       "      <td>7</td>\n",
       "      <td>7.355429</td>\n",
       "      <td>0.355429</td>\n",
       "    </tr>\n",
       "    <tr>\n",
       "      <th>561</th>\n",
       "      <td>8</td>\n",
       "      <td>8.146774</td>\n",
       "      <td>0.146774</td>\n",
       "    </tr>\n",
       "    <tr>\n",
       "      <th>2771</th>\n",
       "      <td>7</td>\n",
       "      <td>7.860450</td>\n",
       "      <td>0.860450</td>\n",
       "    </tr>\n",
       "    <tr>\n",
       "      <th>952</th>\n",
       "      <td>8</td>\n",
       "      <td>7.397194</td>\n",
       "      <td>-0.602806</td>\n",
       "    </tr>\n",
       "    <tr>\n",
       "      <th>915</th>\n",
       "      <td>8</td>\n",
       "      <td>7.815639</td>\n",
       "      <td>-0.184361</td>\n",
       "    </tr>\n",
       "  </tbody>\n",
       "</table>\n",
       "</div>"
      ],
      "text/plain": [
       "      actual values  predicted values  differences\n",
       "584               7          7.659700     0.659700\n",
       "1215              7          7.825935     0.825935\n",
       "877               9          8.622061    -0.377939\n",
       "4230              9          9.087919     0.087919\n",
       "4159              5          5.790874     0.790874\n",
       "4546              9          8.088504    -0.911496\n",
       "2787              4          5.595311     1.595311\n",
       "1744              5          5.003610     0.003610\n",
       "4481              7          7.434537     0.434537\n",
       "3801              8          7.712981    -0.287019\n",
       "4666              8          7.403510    -0.596490\n",
       "2373              8          8.141288     0.141288\n",
       "5007              6          6.203016     0.203016\n",
       "4847              8          8.066261     0.066261\n",
       "4536              5          5.049320     0.049320\n",
       "4525              7          7.355429     0.355429\n",
       "561               8          8.146774     0.146774\n",
       "2771              7          7.860450     0.860450\n",
       "952               8          7.397194    -0.602806\n",
       "915               8          7.815639    -0.184361"
      ]
     },
     "execution_count": 77,
     "metadata": {},
     "output_type": "execute_result"
    }
   ],
   "source": [
    "#Mean absolute error (MAE)\n",
    "\n",
    "#MAE is the average of the absolute differences between predictions and actual values.\n",
    "\n",
    "#It gives you an idea of how wrong your models predictions are.\n",
    "\n",
    "\n",
    "\n",
    "df = pd.DataFrame(data={\"actual values\": y_test,\n",
    "                        \"predicted values\": y_preds})\n",
    "df[\"differences\"] = df[\"predicted values\"] - df[\"actual values\"]\n",
    "df.head(20)"
   ]
  },
  {
   "cell_type": "code",
   "execution_count": 78,
   "metadata": {},
   "outputs": [
    {
     "data": {
      "text/plain": [
       "0.5793099824260387"
      ]
     },
     "execution_count": 78,
     "metadata": {},
     "output_type": "execute_result"
    }
   ],
   "source": [
    "# MAE using formulas and differences\n",
    "np.abs(df[\"differences\"]).mean()"
   ]
  },
  {
   "cell_type": "code",
   "execution_count": null,
   "metadata": {},
   "outputs": [],
   "source": [
    "#Mean squared error (MSE)\n",
    "\n",
    "#MSE is the mean of the square of the errors between actual and predicted values.\n"
   ]
  },
  {
   "cell_type": "code",
   "execution_count": 79,
   "metadata": {},
   "outputs": [
    {
     "data": {
      "text/html": [
       "<div>\n",
       "<style scoped>\n",
       "    .dataframe tbody tr th:only-of-type {\n",
       "        vertical-align: middle;\n",
       "    }\n",
       "\n",
       "    .dataframe tbody tr th {\n",
       "        vertical-align: top;\n",
       "    }\n",
       "\n",
       "    .dataframe thead th {\n",
       "        text-align: right;\n",
       "    }\n",
       "</style>\n",
       "<table border=\"1\" class=\"dataframe\">\n",
       "  <thead>\n",
       "    <tr style=\"text-align: right;\">\n",
       "      <th></th>\n",
       "      <th>actual values</th>\n",
       "      <th>predicted values</th>\n",
       "      <th>differences</th>\n",
       "      <th>squared_differences</th>\n",
       "    </tr>\n",
       "  </thead>\n",
       "  <tbody>\n",
       "    <tr>\n",
       "      <th>584</th>\n",
       "      <td>7</td>\n",
       "      <td>7.659700</td>\n",
       "      <td>0.659700</td>\n",
       "      <td>0.435204</td>\n",
       "    </tr>\n",
       "    <tr>\n",
       "      <th>1215</th>\n",
       "      <td>7</td>\n",
       "      <td>7.825935</td>\n",
       "      <td>0.825935</td>\n",
       "      <td>0.682168</td>\n",
       "    </tr>\n",
       "    <tr>\n",
       "      <th>877</th>\n",
       "      <td>9</td>\n",
       "      <td>8.622061</td>\n",
       "      <td>-0.377939</td>\n",
       "      <td>0.142838</td>\n",
       "    </tr>\n",
       "    <tr>\n",
       "      <th>4230</th>\n",
       "      <td>9</td>\n",
       "      <td>9.087919</td>\n",
       "      <td>0.087919</td>\n",
       "      <td>0.007730</td>\n",
       "    </tr>\n",
       "    <tr>\n",
       "      <th>4159</th>\n",
       "      <td>5</td>\n",
       "      <td>5.790874</td>\n",
       "      <td>0.790874</td>\n",
       "      <td>0.625481</td>\n",
       "    </tr>\n",
       "  </tbody>\n",
       "</table>\n",
       "</div>"
      ],
      "text/plain": [
       "      actual values  predicted values  differences  squared_differences\n",
       "584               7          7.659700     0.659700             0.435204\n",
       "1215              7          7.825935     0.825935             0.682168\n",
       "877               9          8.622061    -0.377939             0.142838\n",
       "4230              9          9.087919     0.087919             0.007730\n",
       "4159              5          5.790874     0.790874             0.625481"
      ]
     },
     "execution_count": 79,
     "metadata": {},
     "output_type": "execute_result"
    }
   ],
   "source": [
    "df[\"squared_differences\"] = np.square(df[\"differences\"])\n",
    "df.head()"
   ]
  },
  {
   "cell_type": "code",
   "execution_count": 80,
   "metadata": {},
   "outputs": [
    {
     "data": {
      "text/plain": [
       "0.5671717937051136"
      ]
     },
     "execution_count": 80,
     "metadata": {},
     "output_type": "execute_result"
    }
   ],
   "source": [
    "# Calculate MSE by hand\n",
    "squared = np.square(df[\"differences\"])\n",
    "squared.mean()"
   ]
  },
  {
   "cell_type": "code",
   "execution_count": 81,
   "metadata": {},
   "outputs": [],
   "source": [
    "df_large_error = df.copy()\n",
    "df_large_error.iloc[0][\"squared_differences\"] = 16 # increase \"squared_differences\" for 1 sample"
   ]
  },
  {
   "cell_type": "code",
   "execution_count": 82,
   "metadata": {},
   "outputs": [
    {
     "data": {
      "text/html": [
       "<div>\n",
       "<style scoped>\n",
       "    .dataframe tbody tr th:only-of-type {\n",
       "        vertical-align: middle;\n",
       "    }\n",
       "\n",
       "    .dataframe tbody tr th {\n",
       "        vertical-align: top;\n",
       "    }\n",
       "\n",
       "    .dataframe thead th {\n",
       "        text-align: right;\n",
       "    }\n",
       "</style>\n",
       "<table border=\"1\" class=\"dataframe\">\n",
       "  <thead>\n",
       "    <tr style=\"text-align: right;\">\n",
       "      <th></th>\n",
       "      <th>actual values</th>\n",
       "      <th>predicted values</th>\n",
       "      <th>differences</th>\n",
       "      <th>squared_differences</th>\n",
       "    </tr>\n",
       "  </thead>\n",
       "  <tbody>\n",
       "    <tr>\n",
       "      <th>584</th>\n",
       "      <td>7</td>\n",
       "      <td>7.659700</td>\n",
       "      <td>0.659700</td>\n",
       "      <td>0.435204</td>\n",
       "    </tr>\n",
       "    <tr>\n",
       "      <th>1215</th>\n",
       "      <td>7</td>\n",
       "      <td>7.825935</td>\n",
       "      <td>0.825935</td>\n",
       "      <td>0.682168</td>\n",
       "    </tr>\n",
       "    <tr>\n",
       "      <th>877</th>\n",
       "      <td>9</td>\n",
       "      <td>8.622061</td>\n",
       "      <td>-0.377939</td>\n",
       "      <td>0.142838</td>\n",
       "    </tr>\n",
       "    <tr>\n",
       "      <th>4230</th>\n",
       "      <td>9</td>\n",
       "      <td>9.087919</td>\n",
       "      <td>0.087919</td>\n",
       "      <td>0.007730</td>\n",
       "    </tr>\n",
       "    <tr>\n",
       "      <th>4159</th>\n",
       "      <td>5</td>\n",
       "      <td>5.790874</td>\n",
       "      <td>0.790874</td>\n",
       "      <td>0.625481</td>\n",
       "    </tr>\n",
       "  </tbody>\n",
       "</table>\n",
       "</div>"
      ],
      "text/plain": [
       "      actual values  predicted values  differences  squared_differences\n",
       "584               7          7.659700     0.659700             0.435204\n",
       "1215              7          7.825935     0.825935             0.682168\n",
       "877               9          8.622061    -0.377939             0.142838\n",
       "4230              9          9.087919     0.087919             0.007730\n",
       "4159              5          5.790874     0.790874             0.625481"
      ]
     },
     "execution_count": 82,
     "metadata": {},
     "output_type": "execute_result"
    }
   ],
   "source": [
    "df_large_error.head()"
   ]
  },
  {
   "cell_type": "code",
   "execution_count": 83,
   "metadata": {},
   "outputs": [
    {
     "data": {
      "text/plain": [
       "0.5671717937051136"
      ]
     },
     "execution_count": 83,
     "metadata": {},
     "output_type": "execute_result"
    }
   ],
   "source": [
    "# Calculate MSE with large error\n",
    "df_large_error[\"squared_differences\"].mean()"
   ]
  },
  {
   "cell_type": "code",
   "execution_count": 84,
   "metadata": {},
   "outputs": [
    {
     "data": {
      "text/html": [
       "<div>\n",
       "<style scoped>\n",
       "    .dataframe tbody tr th:only-of-type {\n",
       "        vertical-align: middle;\n",
       "    }\n",
       "\n",
       "    .dataframe tbody tr th {\n",
       "        vertical-align: top;\n",
       "    }\n",
       "\n",
       "    .dataframe thead th {\n",
       "        text-align: right;\n",
       "    }\n",
       "</style>\n",
       "<table border=\"1\" class=\"dataframe\">\n",
       "  <thead>\n",
       "    <tr style=\"text-align: right;\">\n",
       "      <th></th>\n",
       "      <th>actual values</th>\n",
       "      <th>predicted values</th>\n",
       "      <th>differences</th>\n",
       "      <th>squared_differences</th>\n",
       "    </tr>\n",
       "  </thead>\n",
       "  <tbody>\n",
       "    <tr>\n",
       "      <th>584</th>\n",
       "      <td>7</td>\n",
       "      <td>7.659700</td>\n",
       "      <td>0.659700</td>\n",
       "      <td>0.435204</td>\n",
       "    </tr>\n",
       "    <tr>\n",
       "      <th>1215</th>\n",
       "      <td>7</td>\n",
       "      <td>7.825935</td>\n",
       "      <td>0.825935</td>\n",
       "      <td>20.000000</td>\n",
       "    </tr>\n",
       "    <tr>\n",
       "      <th>877</th>\n",
       "      <td>9</td>\n",
       "      <td>8.622061</td>\n",
       "      <td>-0.377939</td>\n",
       "      <td>20.000000</td>\n",
       "    </tr>\n",
       "    <tr>\n",
       "      <th>4230</th>\n",
       "      <td>9</td>\n",
       "      <td>9.087919</td>\n",
       "      <td>0.087919</td>\n",
       "      <td>20.000000</td>\n",
       "    </tr>\n",
       "    <tr>\n",
       "      <th>4159</th>\n",
       "      <td>5</td>\n",
       "      <td>5.790874</td>\n",
       "      <td>0.790874</td>\n",
       "      <td>20.000000</td>\n",
       "    </tr>\n",
       "    <tr>\n",
       "      <th>...</th>\n",
       "      <td>...</td>\n",
       "      <td>...</td>\n",
       "      <td>...</td>\n",
       "      <td>...</td>\n",
       "    </tr>\n",
       "    <tr>\n",
       "      <th>283</th>\n",
       "      <td>7</td>\n",
       "      <td>7.037247</td>\n",
       "      <td>0.037247</td>\n",
       "      <td>0.001387</td>\n",
       "    </tr>\n",
       "    <tr>\n",
       "      <th>1740</th>\n",
       "      <td>8</td>\n",
       "      <td>8.585614</td>\n",
       "      <td>0.585614</td>\n",
       "      <td>0.342944</td>\n",
       "    </tr>\n",
       "    <tr>\n",
       "      <th>1717</th>\n",
       "      <td>7</td>\n",
       "      <td>8.402111</td>\n",
       "      <td>1.402111</td>\n",
       "      <td>1.965915</td>\n",
       "    </tr>\n",
       "    <tr>\n",
       "      <th>1454</th>\n",
       "      <td>8</td>\n",
       "      <td>7.256872</td>\n",
       "      <td>-0.743128</td>\n",
       "      <td>0.552240</td>\n",
       "    </tr>\n",
       "    <tr>\n",
       "      <th>1909</th>\n",
       "      <td>7</td>\n",
       "      <td>8.247976</td>\n",
       "      <td>1.247976</td>\n",
       "      <td>1.557445</td>\n",
       "    </tr>\n",
       "  </tbody>\n",
       "</table>\n",
       "<p>1036 rows × 4 columns</p>\n",
       "</div>"
      ],
      "text/plain": [
       "      actual values  predicted values  differences  squared_differences\n",
       "584               7          7.659700     0.659700             0.435204\n",
       "1215              7          7.825935     0.825935            20.000000\n",
       "877               9          8.622061    -0.377939            20.000000\n",
       "4230              9          9.087919     0.087919            20.000000\n",
       "4159              5          5.790874     0.790874            20.000000\n",
       "...             ...               ...          ...                  ...\n",
       "283               7          7.037247     0.037247             0.001387\n",
       "1740              8          8.585614     0.585614             0.342944\n",
       "1717              7          8.402111     1.402111             1.965915\n",
       "1454              8          7.256872    -0.743128             0.552240\n",
       "1909              7          8.247976     1.247976             1.557445\n",
       "\n",
       "[1036 rows x 4 columns]"
      ]
     },
     "execution_count": 84,
     "metadata": {},
     "output_type": "execute_result"
    }
   ],
   "source": [
    "# Artificially increase error in \"squared_differences\" column for ~100 samples\n",
    "df_large_error.iloc[1:100, 3] = 20\n",
    "df_large_error"
   ]
  },
  {
   "cell_type": "code",
   "execution_count": 85,
   "metadata": {},
   "outputs": [
    {
     "data": {
      "text/plain": [
       "2.435853463751571"
      ]
     },
     "execution_count": 85,
     "metadata": {},
     "output_type": "execute_result"
    }
   ],
   "source": [
    "# Calculate MSE with large error(s)\n",
    "df_large_error[\"squared_differences\"].mean()"
   ]
  },
  {
   "cell_type": "markdown",
   "metadata": {},
   "source": [
    "### Evaluate random forest accuracy "
   ]
  },
  {
   "cell_type": "markdown",
   "metadata": {},
   "source": [
    "RMSE accuracy Score - depending on what you named your model and predictions this code may need to be adapted\n",
    "\n",
    "ie if your model is called 'new model' and you have created a prediction from this model 'predictions_new' then edit the code block below as: \n",
    "    \n",
    "    mean_squared_error(y_real, predictions_new, squared = False)\n",
    "    "
   ]
  },
  {
   "cell_type": "code",
   "execution_count": 73,
   "metadata": {},
   "outputs": [
    {
     "data": {
      "text/plain": [
       "0.6453165096938073"
      ]
     },
     "execution_count": 73,
     "metadata": {},
     "output_type": "execute_result"
    }
   ],
   "source": [
    "#EDIT as appropriate to get your RMSE \n",
    "from sklearn.metrics import mean_squared_error\n",
    "\n",
    "mean_squared_error(y_test, predictions_new, squared = False)"
   ]
  },
  {
   "cell_type": "code",
   "execution_count": null,
   "metadata": {},
   "outputs": [],
   "source": []
  },
  {
   "cell_type": "markdown",
   "metadata": {},
   "source": [
    "**Evaluating a model using the scoring parameter**"
   ]
  },
  {
   "cell_type": "code",
   "execution_count": 74,
   "metadata": {},
   "outputs": [
    {
     "data": {
      "text/plain": [
       "array([0.78359239, 0.76041171, 0.73674938, 0.75922537, 0.76777694])"
      ]
     },
     "execution_count": 74,
     "metadata": {},
     "output_type": "execute_result"
    }
   ],
   "source": [
    "from sklearn.model_selection import cross_val_score\n",
    "cross_val_score(regressor, X, y, cv=5)"
   ]
  },
  {
   "cell_type": "code",
   "execution_count": 75,
   "metadata": {},
   "outputs": [
    {
     "data": {
      "text/plain": [
       "(0.7400163799877966, 0.7628822166889472)"
      ]
     },
     "execution_count": 75,
     "metadata": {},
     "output_type": "execute_result"
    }
   ],
   "source": [
    "np.random.seed(42)\n",
    "\n",
    "# Single training and test split score\n",
    "regressor_single_score = regressor.score(X_test, y_test)\n",
    "\n",
    "# Take the mean of 5-fold cross-validation score\n",
    "regressor_cross_val_score = np.mean(cross_val_score(regressor, X, y, cv=5))\n",
    "\n",
    "# Compare the two\n",
    "regressor_single_score, regressor_cross_val_score"
   ]
  }
 ],
 "metadata": {
  "kernelspec": {
   "display_name": "Python 3 (ipykernel)",
   "language": "python",
   "name": "python3"
  },
  "language_info": {
   "codemirror_mode": {
    "name": "ipython",
    "version": 3
   },
   "file_extension": ".py",
   "mimetype": "text/x-python",
   "name": "python",
   "nbconvert_exporter": "python",
   "pygments_lexer": "ipython3",
   "version": "3.9.7"
  }
 },
 "nbformat": 4,
 "nbformat_minor": 4
}
